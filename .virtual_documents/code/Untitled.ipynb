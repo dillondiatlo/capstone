import pandas as pd
import numpy as np
import matplotlib.pyplot as plt
import seaborn as sns


#Reading in dataframe
df = pd.read_csv('../data/taxi2022.csv')

#Setting the req_index column as the index
df.set_index('req_index', inplace=True)

#Converting the index to datetime
df.index = pd.to_datetime(df.index, format= '%Y-%m-%d')

#Checking the dtypes
df.dtypes


#Looking to see if anything seems weird
df.describe()


#Taking a look at correlations between features
corr = df.corr(numeric_only=True)
plt.figure(figsize=(8,7))
sns.heatmap(corr, annot=True, vmin=-1, vmax=1, cmap='coolwarm');


#Seeing if this changes at all by month

#Looking and plotting just january data
jan = df.loc['2022-01']
jan_corr = jan.corr(numeric_only=True)

plt.figure(figsize=(6,4))
mask = np.triu(np.ones_like(jan_corr, dtype=bool))
sns.heatmap(jan_corr, annot=True, vmin=-1, vmax=1, mask=mask, fmt=".1f", cmap='coolwarm');


#How much, on average, does a driver make per trip by per month
df['driver_pay'].resample("ME").mean()


df['month'] = pd.to_datetime(df['req_date']).dt.month


df['month'].unique()


plt.figure(figsize=(8,6))
plt.bar(df['month'].unique(), df['driver_pay'].resample("ME").mean(),  color='darkblue')



trial = df['req_date'].resample('ME')
print(trial)



