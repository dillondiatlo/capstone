


import pandas as pd
import numpy as np
import matplotlib.pyplot as plt


#Defining the chunk size
chunk_size = 10000

#Opening the input file for reading
input_file = '../data/2022_High_Volume_FHV_Trip_Records_20240413 (1).csv'
reader = pd.read_csv(input_file, chunksize=chunk_size)

#Opening the output file for writing
output_file = '../data/sept_b_downsized.csv'
header_written = False

#Iterating over each chunk
counter = 0
for chunk in reader:
    counter += 1
    if counter % 100 == 0:
        if not header_written:
            chunk.to_csv(output_file, index=False)
            header_written = True
        else:
            chunk.to_csv(output_file, index=False, header=False, mode='a')


print("I sampled your stuff. Is the life of a computer no more than that of a servent?")





jan_a = pd.read_csv('./data/jan_a_downsized.csv')
jan_b = pd.read_csv('./data/jan_b_downsized.csv')
jan = pd.concat([jan_a, jan_b])
jan.to_csv('./data/jan.csv')





feb_a = pd.read_csv('./data/feb_a_downsized.csv')
feb_b = pd.read_csv('./data/feb_b_downsized.csv')
feb = pd.concat([feb_a, feb_b])
print(feb_a.shape, feb_b.shape, feb.shape)
feb.to_csv('./data/feb.csv')








march_a = pd.read_csv('./data/march_a_downsized.csv')
march_b = pd.read_csv('./data/march_b_downsized.csv')
march = pd.concat([march_a, march_b])
print(march_a.shape, march_b.shape, march.shape)
march.to_csv('./data/mar.csv')





april_a = pd.read_csv('./data/april_a_downsized.csv')
april_b = pd.read_csv('./data/april_b_downsized.csv')
april = pd.concat([april_a, april_b])
print(april_a.shape, april_b.shape, april.shape)
april.to_csv('./data/april.csv')





may_a = pd.read_csv('./data/may_a_downsized.csv')
may_b = pd.read_csv('./data/may_b_downsized.csv')
may = pd.concat([may_a, may_b])
print(may_a.shape, may_b.shape, may.shape)
may.to_csv('./data/may.csv')





june_a = pd.read_csv('./data/june_a_downsized.csv')
june_b = pd.read_csv('./data/june_b_downsized.csv')
june = pd.concat([june_a, june_b])
print(june_a.shape, june_b.shape, june.shape)
june.to_csv('./data/june.csv')





july_a = pd.read_csv('./data/july_a_downsized.csv')
july_b = pd.read_csv('./data/july_b_downsized.csv')
july = pd.concat([july_a, july_b])
print(july_a.shape, july_b.shape, july.shape)
july.to_csv('./data/july.csv')





aug_a = pd.read_csv('./data/aug_a_downsized.csv')
aug_b = pd.read_csv('./data/aug_b_downsized.csv')
aug = pd.concat([aug_a, aug_b])
print(aug_a.shape, aug_b.shape, aug.shape)
aug.to_csv('./data/aug.csv')





sept_a = pd.read_csv('../data/sept_a_downsized.csv')
sept_b = pd.read_csv('../data/sept_b_downsized.csv')
sept = pd.concat([sept_a, sept_b])
print(sept_a.shape, sept_b.shape, sept.shape)
sept.to_csv('../data/sept.csv')





oct_a = pd.read_csv('./data/oct_a_downsized.csv')
oct_b = pd.read_csv('./data/oct_b_downsized.csv')
oct = pd.concat([oct_a, oct_b])
print(oct_a.shape, oct_b.shape, oct.shape)
oct.to_csv('./data/oct.csv')





nov_a = pd.read_csv('./data/nov_a_downsized.csv')
nov_b = pd.read_csv('./data/nov_b_downsized.csv')
nov = pd.concat([nov_a, nov_b])
print(nov_a.shape, nov_b.shape, nov.shape)
nov.to_csv('./data/nov.csv')





dec_a = pd.read_csv('./data/dec_a_downsized.csv')
dec_b = pd.read_csv('./data/dec_b_downsized.csv')
dec = pd.concat([dec_a, dec_b])
print(dec_a.shape, dec_b.shape, dec.shape)
dec.to_csv('./data/dec.csv')





        
