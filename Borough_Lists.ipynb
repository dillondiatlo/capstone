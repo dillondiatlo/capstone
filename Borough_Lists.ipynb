{
 "cells": [
  {
   "cell_type": "code",
   "execution_count": 10,
   "id": "9613ad1f-af9d-4795-bb24-0947585122f1",
   "metadata": {},
   "outputs": [],
   "source": [
    "import pandas as pd\n",
    "import numpy as np\n",
    "import matplotlib.pyplot as plt\n",
    "import seaborn as sns\n",
    "import pickle"
   ]
  },
  {
   "cell_type": "code",
   "execution_count": 20,
   "id": "b4929ccd-f84a-4ee6-9c73-5bab727fae1a",
   "metadata": {},
   "outputs": [],
   "source": [
    "#Importing taxi zone df\n",
    "taxizones = pd.read_csv('../data/taxi_zones.csv')\n",
    "taxizones = taxizones.drop(columns=['OBJECTID', 'the_geom', 'Shape_Leng', 'Shape_Area', 'LocationID'])\n",
    "taxizones.head()\n",
    "\n",
    "#creating function to create a list of borough taxi zones, then drop duplicates from a list\n",
    "def list_creator(df_name, borough_str):\n",
    "    borough_str = df_name[df_name['borough'] == borough_str]\n",
    "    borough_str = [i for i in borough_str['zone'].values]\n",
    "    return(borough_str)\n",
    "\n",
    "Bronx = list_creator(taxizones, 'Bronx')\n",
    "Manhattan = list_creator(taxizones, 'Manhattan')\n",
    "Brooklyn = list_creator(taxizones, 'Brooklyn')\n",
    "Queens = list_creator(taxizones, 'Queens')\n",
    "Staten_Island = list_creator(taxizones, 'Staten Island')"
   ]
  },
  {
   "cell_type": "code",
   "execution_count": 32,
   "id": "824aae0b-eb37-4236-b9d9-4fe68d22290e",
   "metadata": {},
   "outputs": [],
   "source": [
    "with open('../Boroughs_List.pkl', 'wb') as f:\n",
    "    pickle.dump((Bronx, Manhattan, Brooklyn, Queens, Staten_Island), f)"
   ]
  },
  {
   "cell_type": "code",
   "execution_count": 19,
   "id": "a092a748-5707-4786-8a57-709c26df49c8",
   "metadata": {},
   "outputs": [],
   "source": [
    "with open('../Boroughs_List.pkl', 'rb') as f:\n",
    "    Bronx, Manhattan, Brooklyn, Queens, Staten_Island = pickle.load(f)"
   ]
  },
  {
   "cell_type": "code",
   "execution_count": 30,
   "id": "3c7379e3-9686-4722-8081-f99970275123",
   "metadata": {},
   "outputs": [
    {
     "data": {
      "text/plain": [
       "['Alphabet City',\n",
       " 'Bloomingdale',\n",
       " 'Battery Park',\n",
       " 'Battery Park City',\n",
       " 'Central Harlem',\n",
       " 'Chinatown',\n",
       " 'Central Harlem North',\n",
       " 'Central Park',\n",
       " 'Clinton East',\n",
       " 'Clinton West',\n",
       " 'East Chelsea',\n",
       " 'East Village',\n",
       " 'East Harlem North',\n",
       " 'East Harlem South',\n",
       " 'Financial District North',\n",
       " 'Financial District South',\n",
       " 'Flatiron',\n",
       " 'Hudson Sq',\n",
       " 'Garment District',\n",
       " 'Gramercy',\n",
       " 'Greenwich Village North',\n",
       " 'Greenwich Village South',\n",
       " 'Hamilton Heights',\n",
       " 'Highbridge Park',\n",
       " 'Inwood',\n",
       " 'Inwood Hill Park',\n",
       " 'Manhattan Valley',\n",
       " 'Lenox Hill East',\n",
       " 'Kips Bay',\n",
       " 'Lenox Hill West',\n",
       " 'Lincoln Square East',\n",
       " 'Manhattanville',\n",
       " 'Lincoln Square West',\n",
       " 'Little Italy/NoLiTa',\n",
       " 'Lower East Side',\n",
       " 'Marble Hill',\n",
       " 'Meatpacking/West Village West',\n",
       " 'Midtown Center',\n",
       " 'Midtown East',\n",
       " 'Midtown North',\n",
       " 'Midtown South',\n",
       " 'Murray Hill',\n",
       " 'Morningside Heights',\n",
       " 'Penn Station/Madison Sq West',\n",
       " 'Randalls Island',\n",
       " 'Roosevelt Island',\n",
       " 'Seaport',\n",
       " 'SoHo',\n",
       " 'Stuy Town/Peter Cooper Village',\n",
       " 'Sutton Place/Turtle Bay North',\n",
       " 'Times Sq/Theatre District',\n",
       " 'TriBeCa/Civic Center',\n",
       " 'Upper West Side South',\n",
       " 'Two Bridges/Seward Park',\n",
       " 'UN/Turtle Bay South',\n",
       " 'Union Sq',\n",
       " 'Upper East Side North',\n",
       " 'Upper East Side South',\n",
       " 'Upper West Side North',\n",
       " 'Yorkville West',\n",
       " 'Washington Heights North',\n",
       " 'Washington Heights South',\n",
       " 'West Chelsea/Hudson Yards',\n",
       " 'West Village',\n",
       " 'World Trade Center',\n",
       " 'Yorkville East']"
      ]
     },
     "execution_count": 30,
     "metadata": {},
     "output_type": "execute_result"
    }
   ],
   "source": [
    "Manhattan"
   ]
  },
  {
   "cell_type": "code",
   "execution_count": 31,
   "id": "eb29942b-f089-410e-84d5-72517ad273a5",
   "metadata": {},
   "outputs": [
    {
     "data": {
      "text/plain": [
       "['Alphabet City',\n",
       " 'Bloomingdale',\n",
       " 'Battery Park',\n",
       " 'Battery Park City',\n",
       " 'Central Harlem',\n",
       " 'Chinatown',\n",
       " 'Central Harlem North',\n",
       " 'Central Park',\n",
       " 'Clinton East',\n",
       " 'Clinton West',\n",
       " 'East Chelsea',\n",
       " 'East Village',\n",
       " 'East Harlem North',\n",
       " 'East Harlem South',\n",
       " 'Financial District North',\n",
       " 'Financial District South',\n",
       " 'Flatiron',\n",
       " 'Hudson Sq',\n",
       " 'Garment District',\n",
       " 'Gramercy',\n",
       " 'Greenwich Village North',\n",
       " 'Greenwich Village South',\n",
       " 'Hamilton Heights',\n",
       " 'Highbridge Park',\n",
       " 'Inwood',\n",
       " 'Inwood Hill Park',\n",
       " 'Manhattan Valley',\n",
       " 'Lenox Hill East',\n",
       " 'Kips Bay',\n",
       " 'Lenox Hill West',\n",
       " 'Lincoln Square East',\n",
       " 'Manhattanville',\n",
       " 'Lincoln Square West',\n",
       " 'Little Italy/NoLiTa',\n",
       " 'Lower East Side',\n",
       " 'Marble Hill',\n",
       " 'Meatpacking/West Village West',\n",
       " 'Midtown Center',\n",
       " 'Midtown East',\n",
       " 'Midtown North',\n",
       " 'Midtown South',\n",
       " 'Murray Hill',\n",
       " 'Morningside Heights',\n",
       " 'Penn Station/Madison Sq West',\n",
       " 'Randalls Island',\n",
       " 'Roosevelt Island',\n",
       " 'Seaport',\n",
       " 'SoHo',\n",
       " 'Stuy Town/Peter Cooper Village',\n",
       " 'Sutton Place/Turtle Bay North',\n",
       " 'Times Sq/Theatre District',\n",
       " 'TriBeCa/Civic Center',\n",
       " 'Upper West Side South',\n",
       " 'Two Bridges/Seward Park',\n",
       " 'UN/Turtle Bay South',\n",
       " 'Union Sq',\n",
       " 'Upper East Side North',\n",
       " 'Upper East Side South',\n",
       " 'Upper West Side North',\n",
       " 'Yorkville West',\n",
       " 'Washington Heights North',\n",
       " 'Washington Heights South',\n",
       " 'West Chelsea/Hudson Yards',\n",
       " 'West Village',\n",
       " 'World Trade Center',\n",
       " 'Yorkville East']"
      ]
     },
     "execution_count": 31,
     "metadata": {},
     "output_type": "execute_result"
    }
   ],
   "source": [
    "Manhattan"
   ]
  },
  {
   "cell_type": "code",
   "execution_count": null,
   "id": "fdcafeae-51c7-4470-a645-38f669406169",
   "metadata": {},
   "outputs": [],
   "source": []
  }
 ],
 "metadata": {
  "kernelspec": {
   "display_name": "Python 3 (ipykernel)",
   "language": "python",
   "name": "python3"
  },
  "language_info": {
   "codemirror_mode": {
    "name": "ipython",
    "version": 3
   },
   "file_extension": ".py",
   "mimetype": "text/x-python",
   "name": "python",
   "nbconvert_exporter": "python",
   "pygments_lexer": "ipython3",
   "version": "3.11.5"
  }
 },
 "nbformat": 4,
 "nbformat_minor": 5
}
