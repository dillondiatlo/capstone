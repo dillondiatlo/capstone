{
 "cells": [
  {
   "cell_type": "markdown",
   "metadata": {},
   "source": [
    "# 04) Modeling"
   ]
  },
  {
   "cell_type": "markdown",
   "metadata": {},
   "source": [
    "Here you will find the different models built in order to attempt predicting taxi fares. \n",
    "They include: \n",
    "- 4.01 GradientBoost (winner)\n",
    "- 4.02 RandomForest\n",
    "- 4.03 LinearRegression\n",
    "- 4.04 XGBoost "
   ]
  },
  {
   "cell_type": "markdown",
   "metadata": {},
   "source": [
    "## 4.01 GradientBoost"
   ]
  },
  {
   "cell_type": "code",
   "execution_count": 2,
   "metadata": {
    "executionInfo": {
     "elapsed": 123,
     "status": "ok",
     "timestamp": 1712859808488,
     "user": {
      "displayName": "Dillon D",
      "userId": "10525518487357266623"
     },
     "user_tz": 240
    },
    "id": "xSQU8mMXsuDE"
   },
   "outputs": [],
   "source": [
    "# Imports\n",
    "import pandas as pd\n",
    "import numpy as np\n",
    "import matplotlib.pyplot as plt\n",
    "import seaborn as sns\n",
    "import os\n",
    "import pickle\n",
    "\n",
    "\n",
    "from sklearn.model_selection import train_test_split, GridSearchCV, RandomizedSearchCV\n",
    "from sklearn.compose import ColumnTransformer\n",
    "from sklearn.pipeline import Pipeline\n",
    "from sklearn.preprocessing import StandardScaler, OneHotEncoder\n",
    "from sklearn.metrics import mean_squared_error\n",
    "\n",
    "from sklearn.ensemble import AdaBoostRegressor, GradientBoostingRegressor\n",
    "\n",
    "pd.set_option('display.max_columns', None)"
   ]
  },
  {
   "cell_type": "code",
   "execution_count": 38,
   "metadata": {
    "colab": {
     "base_uri": "https://localhost:8080/",
     "height": 255
    },
    "executionInfo": {
     "elapsed": 13178,
     "status": "ok",
     "timestamp": 1712859656177,
     "user": {
      "displayName": "Dillon D",
      "userId": "10525518487357266623"
     },
     "user_tz": 240
    },
    "id": "Z45EJQErs8uH",
    "outputId": "7f7d72fb-c40d-499e-da8b-51e1ce44f00c"
   },
   "outputs": [
    {
     "name": "stdout",
     "output_type": "stream",
     "text": [
      "(700000, 14)\n"
     ]
    },
    {
     "data": {
      "text/html": [
       "<div>\n",
       "<style scoped>\n",
       "    .dataframe tbody tr th:only-of-type {\n",
       "        vertical-align: middle;\n",
       "    }\n",
       "\n",
       "    .dataframe tbody tr th {\n",
       "        vertical-align: top;\n",
       "    }\n",
       "\n",
       "    .dataframe thead th {\n",
       "        text-align: right;\n",
       "    }\n",
       "</style>\n",
       "<table border=\"1\" class=\"dataframe\">\n",
       "  <thead>\n",
       "    <tr style=\"text-align: right;\">\n",
       "      <th></th>\n",
       "      <th>trip_miles</th>\n",
       "      <th>tips</th>\n",
       "      <th>congestion_surcharge</th>\n",
       "      <th>temp</th>\n",
       "      <th>preciptype</th>\n",
       "      <th>zone</th>\n",
       "      <th>borough_name</th>\n",
       "      <th>trip_duration</th>\n",
       "      <th>month</th>\n",
       "      <th>day_of_month</th>\n",
       "      <th>driver_made</th>\n",
       "      <th>day_of_week</th>\n",
       "      <th>hour</th>\n",
       "      <th>minute</th>\n",
       "    </tr>\n",
       "    <tr>\n",
       "      <th>req_index</th>\n",
       "      <th></th>\n",
       "      <th></th>\n",
       "      <th></th>\n",
       "      <th></th>\n",
       "      <th></th>\n",
       "      <th></th>\n",
       "      <th></th>\n",
       "      <th></th>\n",
       "      <th></th>\n",
       "      <th></th>\n",
       "      <th></th>\n",
       "      <th></th>\n",
       "      <th></th>\n",
       "      <th></th>\n",
       "    </tr>\n",
       "  </thead>\n",
       "  <tbody>\n",
       "    <tr>\n",
       "      <th>2022-10-19</th>\n",
       "      <td>2.38</td>\n",
       "      <td>5.0</td>\n",
       "      <td>0.00</td>\n",
       "      <td>48.9</td>\n",
       "      <td>0</td>\n",
       "      <td>Saint George/New Brighton</td>\n",
       "      <td>Staten Island</td>\n",
       "      <td>9.0</td>\n",
       "      <td>10</td>\n",
       "      <td>19</td>\n",
       "      <td>14.82</td>\n",
       "      <td>Wednesday</td>\n",
       "      <td>14</td>\n",
       "      <td>27</td>\n",
       "    </tr>\n",
       "    <tr>\n",
       "      <th>2022-07-15</th>\n",
       "      <td>10.92</td>\n",
       "      <td>0.0</td>\n",
       "      <td>0.00</td>\n",
       "      <td>78.3</td>\n",
       "      <td>0</td>\n",
       "      <td>Old Astoria</td>\n",
       "      <td>Queens</td>\n",
       "      <td>35.0</td>\n",
       "      <td>7</td>\n",
       "      <td>15</td>\n",
       "      <td>30.91</td>\n",
       "      <td>Friday</td>\n",
       "      <td>22</td>\n",
       "      <td>24</td>\n",
       "    </tr>\n",
       "    <tr>\n",
       "      <th>2022-03-09</th>\n",
       "      <td>1.26</td>\n",
       "      <td>0.0</td>\n",
       "      <td>0.00</td>\n",
       "      <td>37.6</td>\n",
       "      <td>3</td>\n",
       "      <td>Flushing</td>\n",
       "      <td>Queens</td>\n",
       "      <td>6.0</td>\n",
       "      <td>3</td>\n",
       "      <td>9</td>\n",
       "      <td>6.32</td>\n",
       "      <td>Wednesday</td>\n",
       "      <td>15</td>\n",
       "      <td>51</td>\n",
       "    </tr>\n",
       "    <tr>\n",
       "      <th>2022-12-03</th>\n",
       "      <td>1.53</td>\n",
       "      <td>0.0</td>\n",
       "      <td>2.75</td>\n",
       "      <td>52.7</td>\n",
       "      <td>1</td>\n",
       "      <td>Upper East Side North</td>\n",
       "      <td>Manhattan</td>\n",
       "      <td>7.0</td>\n",
       "      <td>12</td>\n",
       "      <td>3</td>\n",
       "      <td>5.88</td>\n",
       "      <td>Saturday</td>\n",
       "      <td>20</td>\n",
       "      <td>56</td>\n",
       "    </tr>\n",
       "    <tr>\n",
       "      <th>2022-11-20</th>\n",
       "      <td>0.70</td>\n",
       "      <td>0.0</td>\n",
       "      <td>0.00</td>\n",
       "      <td>34.9</td>\n",
       "      <td>2</td>\n",
       "      <td>Greenpoint</td>\n",
       "      <td>Brooklyn</td>\n",
       "      <td>3.0</td>\n",
       "      <td>11</td>\n",
       "      <td>20</td>\n",
       "      <td>6.15</td>\n",
       "      <td>Sunday</td>\n",
       "      <td>10</td>\n",
       "      <td>18</td>\n",
       "    </tr>\n",
       "  </tbody>\n",
       "</table>\n",
       "</div>"
      ],
      "text/plain": [
       "            trip_miles  tips  congestion_surcharge  temp  preciptype  \\\n",
       "req_index                                                              \n",
       "2022-10-19        2.38   5.0                  0.00  48.9           0   \n",
       "2022-07-15       10.92   0.0                  0.00  78.3           0   \n",
       "2022-03-09        1.26   0.0                  0.00  37.6           3   \n",
       "2022-12-03        1.53   0.0                  2.75  52.7           1   \n",
       "2022-11-20        0.70   0.0                  0.00  34.9           2   \n",
       "\n",
       "                                 zone   borough_name  trip_duration  month  \\\n",
       "req_index                                                                    \n",
       "2022-10-19  Saint George/New Brighton  Staten Island            9.0     10   \n",
       "2022-07-15                Old Astoria         Queens           35.0      7   \n",
       "2022-03-09                   Flushing         Queens            6.0      3   \n",
       "2022-12-03      Upper East Side North      Manhattan            7.0     12   \n",
       "2022-11-20                 Greenpoint       Brooklyn            3.0     11   \n",
       "\n",
       "            day_of_month  driver_made day_of_week  hour  minute  \n",
       "req_index                                                        \n",
       "2022-10-19            19        14.82   Wednesday    14      27  \n",
       "2022-07-15            15        30.91      Friday    22      24  \n",
       "2022-03-09             9         6.32   Wednesday    15      51  \n",
       "2022-12-03             3         5.88    Saturday    20      56  \n",
       "2022-11-20            20         6.15      Sunday    10      18  "
      ]
     },
     "execution_count": 38,
     "metadata": {},
     "output_type": "execute_result"
    }
   ],
   "source": [
    "#In order to run the model faster, I had to sample it down to 700,000 instead of nearly 2M\n",
    "new_df = pd.read_csv('../data/clean/041324_taxi_recs.csv')\n",
    "new_df = new_df.set_index('req_index')\n",
    "new_df = new_df.sample(n=700000, random_state=2024)\n",
    "print(new_df.shape)\n",
    "new_df.head()"
   ]
  },
  {
   "cell_type": "code",
   "execution_count": 44,
   "metadata": {},
   "outputs": [
    {
     "data": {
      "text/plain": [
       "trip_miles              float64\n",
       "tips                    float64\n",
       "congestion_surcharge    float64\n",
       "temp                    float64\n",
       "preciptype                int64\n",
       "zone                     object\n",
       "borough_name             object\n",
       "trip_duration           float64\n",
       "month                     int64\n",
       "day_of_month              int64\n",
       "driver_made             float64\n",
       "day_of_week              object\n",
       "hour                      int64\n",
       "minute                    int64\n",
       "dtype: object"
      ]
     },
     "execution_count": 44,
     "metadata": {},
     "output_type": "execute_result"
    }
   ],
   "source": [
    "new_df.dtypes"
   ]
  },
  {
   "cell_type": "code",
   "execution_count": 39,
   "metadata": {},
   "outputs": [
    {
     "data": {
      "text/plain": [
       "(700000, 14)"
      ]
     },
     "execution_count": 39,
     "metadata": {},
     "output_type": "execute_result"
    }
   ],
   "source": [
    "new_df = new_df.sort_index()\n",
    "new_df.shape"
   ]
  },
  {
   "cell_type": "markdown",
   "metadata": {},
   "source": [
    "**Note**: By sampling down the data using .sample(), one runs the risk of the training data not including all zones in the testing data. Should this happen, tune the .sample() size and pull again."
   ]
  },
  {
   "cell_type": "code",
   "execution_count": 40,
   "metadata": {
    "colab": {
     "base_uri": "https://localhost:8080/",
     "height": 192
    },
    "executionInfo": {
     "elapsed": 63284,
     "status": "ok",
     "timestamp": 1712859737520,
     "user": {
      "displayName": "Dillon D",
      "userId": "10525518487357266623"
     },
     "user_tz": 240
    },
    "id": "ikmzBguntnNe",
    "outputId": "9076763e-1fd4-4d40-946e-39d8ecd54eee"
   },
   "outputs": [
    {
     "data": {
      "text/html": [
       "<style>#sk-container-id-7 {color: black;background-color: white;}#sk-container-id-7 pre{padding: 0;}#sk-container-id-7 div.sk-toggleable {background-color: white;}#sk-container-id-7 label.sk-toggleable__label {cursor: pointer;display: block;width: 100%;margin-bottom: 0;padding: 0.3em;box-sizing: border-box;text-align: center;}#sk-container-id-7 label.sk-toggleable__label-arrow:before {content: \"▸\";float: left;margin-right: 0.25em;color: #696969;}#sk-container-id-7 label.sk-toggleable__label-arrow:hover:before {color: black;}#sk-container-id-7 div.sk-estimator:hover label.sk-toggleable__label-arrow:before {color: black;}#sk-container-id-7 div.sk-toggleable__content {max-height: 0;max-width: 0;overflow: hidden;text-align: left;background-color: #f0f8ff;}#sk-container-id-7 div.sk-toggleable__content pre {margin: 0.2em;color: black;border-radius: 0.25em;background-color: #f0f8ff;}#sk-container-id-7 input.sk-toggleable__control:checked~div.sk-toggleable__content {max-height: 200px;max-width: 100%;overflow: auto;}#sk-container-id-7 input.sk-toggleable__control:checked~label.sk-toggleable__label-arrow:before {content: \"▾\";}#sk-container-id-7 div.sk-estimator input.sk-toggleable__control:checked~label.sk-toggleable__label {background-color: #d4ebff;}#sk-container-id-7 div.sk-label input.sk-toggleable__control:checked~label.sk-toggleable__label {background-color: #d4ebff;}#sk-container-id-7 input.sk-hidden--visually {border: 0;clip: rect(1px 1px 1px 1px);clip: rect(1px, 1px, 1px, 1px);height: 1px;margin: -1px;overflow: hidden;padding: 0;position: absolute;width: 1px;}#sk-container-id-7 div.sk-estimator {font-family: monospace;background-color: #f0f8ff;border: 1px dotted black;border-radius: 0.25em;box-sizing: border-box;margin-bottom: 0.5em;}#sk-container-id-7 div.sk-estimator:hover {background-color: #d4ebff;}#sk-container-id-7 div.sk-parallel-item::after {content: \"\";width: 100%;border-bottom: 1px solid gray;flex-grow: 1;}#sk-container-id-7 div.sk-label:hover label.sk-toggleable__label {background-color: #d4ebff;}#sk-container-id-7 div.sk-serial::before {content: \"\";position: absolute;border-left: 1px solid gray;box-sizing: border-box;top: 0;bottom: 0;left: 50%;z-index: 0;}#sk-container-id-7 div.sk-serial {display: flex;flex-direction: column;align-items: center;background-color: white;padding-right: 0.2em;padding-left: 0.2em;position: relative;}#sk-container-id-7 div.sk-item {position: relative;z-index: 1;}#sk-container-id-7 div.sk-parallel {display: flex;align-items: stretch;justify-content: center;background-color: white;position: relative;}#sk-container-id-7 div.sk-item::before, #sk-container-id-7 div.sk-parallel-item::before {content: \"\";position: absolute;border-left: 1px solid gray;box-sizing: border-box;top: 0;bottom: 0;left: 50%;z-index: -1;}#sk-container-id-7 div.sk-parallel-item {display: flex;flex-direction: column;z-index: 1;position: relative;background-color: white;}#sk-container-id-7 div.sk-parallel-item:first-child::after {align-self: flex-end;width: 50%;}#sk-container-id-7 div.sk-parallel-item:last-child::after {align-self: flex-start;width: 50%;}#sk-container-id-7 div.sk-parallel-item:only-child::after {width: 0;}#sk-container-id-7 div.sk-dashed-wrapped {border: 1px dashed gray;margin: 0 0.4em 0.5em 0.4em;box-sizing: border-box;padding-bottom: 0.4em;background-color: white;}#sk-container-id-7 div.sk-label label {font-family: monospace;font-weight: bold;display: inline-block;line-height: 1.2em;}#sk-container-id-7 div.sk-label-container {text-align: center;}#sk-container-id-7 div.sk-container {/* jupyter's `normalize.less` sets `[hidden] { display: none; }` but bootstrap.min.css set `[hidden] { display: none !important; }` so we also need the `!important` here to be able to override the default hidden behavior on the sphinx rendered scikit-learn.org. See: https://github.com/scikit-learn/scikit-learn/issues/21755 */display: inline-block !important;position: relative;}#sk-container-id-7 div.sk-text-repr-fallback {display: none;}</style><div id=\"sk-container-id-7\" class=\"sk-top-container\"><div class=\"sk-text-repr-fallback\"><pre>Pipeline(steps=[(&#x27;ct&#x27;,\n",
       "                 ColumnTransformer(remainder=&#x27;passthrough&#x27;,\n",
       "                                   transformers=[(&#x27;ohe&#x27;, OneHotEncoder(),\n",
       "                                                  [&#x27;borough_name&#x27;, &#x27;zone&#x27;,\n",
       "                                                   &#x27;day_of_week&#x27;])])),\n",
       "                (&#x27;gb&#x27;, GradientBoostingRegressor(random_state=2024))])</pre><b>In a Jupyter environment, please rerun this cell to show the HTML representation or trust the notebook. <br />On GitHub, the HTML representation is unable to render, please try loading this page with nbviewer.org.</b></div><div class=\"sk-container\" hidden><div class=\"sk-item sk-dashed-wrapped\"><div class=\"sk-label-container\"><div class=\"sk-label sk-toggleable\"><input class=\"sk-toggleable__control sk-hidden--visually\" id=\"sk-estimator-id-43\" type=\"checkbox\" ><label for=\"sk-estimator-id-43\" class=\"sk-toggleable__label sk-toggleable__label-arrow\">Pipeline</label><div class=\"sk-toggleable__content\"><pre>Pipeline(steps=[(&#x27;ct&#x27;,\n",
       "                 ColumnTransformer(remainder=&#x27;passthrough&#x27;,\n",
       "                                   transformers=[(&#x27;ohe&#x27;, OneHotEncoder(),\n",
       "                                                  [&#x27;borough_name&#x27;, &#x27;zone&#x27;,\n",
       "                                                   &#x27;day_of_week&#x27;])])),\n",
       "                (&#x27;gb&#x27;, GradientBoostingRegressor(random_state=2024))])</pre></div></div></div><div class=\"sk-serial\"><div class=\"sk-item sk-dashed-wrapped\"><div class=\"sk-label-container\"><div class=\"sk-label sk-toggleable\"><input class=\"sk-toggleable__control sk-hidden--visually\" id=\"sk-estimator-id-44\" type=\"checkbox\" ><label for=\"sk-estimator-id-44\" class=\"sk-toggleable__label sk-toggleable__label-arrow\">ct: ColumnTransformer</label><div class=\"sk-toggleable__content\"><pre>ColumnTransformer(remainder=&#x27;passthrough&#x27;,\n",
       "                  transformers=[(&#x27;ohe&#x27;, OneHotEncoder(),\n",
       "                                 [&#x27;borough_name&#x27;, &#x27;zone&#x27;, &#x27;day_of_week&#x27;])])</pre></div></div></div><div class=\"sk-parallel\"><div class=\"sk-parallel-item\"><div class=\"sk-item\"><div class=\"sk-label-container\"><div class=\"sk-label sk-toggleable\"><input class=\"sk-toggleable__control sk-hidden--visually\" id=\"sk-estimator-id-45\" type=\"checkbox\" ><label for=\"sk-estimator-id-45\" class=\"sk-toggleable__label sk-toggleable__label-arrow\">ohe</label><div class=\"sk-toggleable__content\"><pre>[&#x27;borough_name&#x27;, &#x27;zone&#x27;, &#x27;day_of_week&#x27;]</pre></div></div></div><div class=\"sk-serial\"><div class=\"sk-item\"><div class=\"sk-estimator sk-toggleable\"><input class=\"sk-toggleable__control sk-hidden--visually\" id=\"sk-estimator-id-46\" type=\"checkbox\" ><label for=\"sk-estimator-id-46\" class=\"sk-toggleable__label sk-toggleable__label-arrow\">OneHotEncoder</label><div class=\"sk-toggleable__content\"><pre>OneHotEncoder()</pre></div></div></div></div></div></div><div class=\"sk-parallel-item\"><div class=\"sk-item\"><div class=\"sk-label-container\"><div class=\"sk-label sk-toggleable\"><input class=\"sk-toggleable__control sk-hidden--visually\" id=\"sk-estimator-id-47\" type=\"checkbox\" ><label for=\"sk-estimator-id-47\" class=\"sk-toggleable__label sk-toggleable__label-arrow\">remainder</label><div class=\"sk-toggleable__content\"><pre>[&#x27;trip_miles&#x27;, &#x27;temp&#x27;, &#x27;preciptype&#x27;, &#x27;trip_duration&#x27;, &#x27;month&#x27;, &#x27;day_of_month&#x27;, &#x27;hour&#x27;, &#x27;minute&#x27;]</pre></div></div></div><div class=\"sk-serial\"><div class=\"sk-item\"><div class=\"sk-estimator sk-toggleable\"><input class=\"sk-toggleable__control sk-hidden--visually\" id=\"sk-estimator-id-48\" type=\"checkbox\" ><label for=\"sk-estimator-id-48\" class=\"sk-toggleable__label sk-toggleable__label-arrow\">passthrough</label><div class=\"sk-toggleable__content\"><pre>passthrough</pre></div></div></div></div></div></div></div></div><div class=\"sk-item\"><div class=\"sk-estimator sk-toggleable\"><input class=\"sk-toggleable__control sk-hidden--visually\" id=\"sk-estimator-id-49\" type=\"checkbox\" ><label for=\"sk-estimator-id-49\" class=\"sk-toggleable__label sk-toggleable__label-arrow\">GradientBoostingRegressor</label><div class=\"sk-toggleable__content\"><pre>GradientBoostingRegressor(random_state=2024)</pre></div></div></div></div></div></div></div>"
      ],
      "text/plain": [
       "Pipeline(steps=[('ct',\n",
       "                 ColumnTransformer(remainder='passthrough',\n",
       "                                   transformers=[('ohe', OneHotEncoder(),\n",
       "                                                  ['borough_name', 'zone',\n",
       "                                                   'day_of_week'])])),\n",
       "                ('gb', GradientBoostingRegressor(random_state=2024))])"
      ]
     },
     "execution_count": 40,
     "metadata": {},
     "output_type": "execute_result"
    }
   ],
   "source": [
    "#Attempthing Gradient Boost\n",
    "\n",
    "#setting X, y\n",
    "X = new_df.drop(columns=['driver_made', 'tips',\t'congestion_surcharge'])\n",
    "y = new_df['driver_made']\n",
    "\n",
    "#tts\n",
    "X_train, X_test, y_train, y_test = train_test_split(X, y, random_state=2024)\n",
    "\n",
    "# Instantiating\n",
    "gb = GradientBoostingRegressor(random_state=2024)\n",
    "ohe = OneHotEncoder()\n",
    "\n",
    "cat_var = ['borough_name', 'zone', 'day_of_week']\n",
    "ct = ColumnTransformer([\n",
    "    ('ohe', OneHotEncoder(), cat_var)], remainder ='passthrough')\n",
    "\n",
    "pipe = Pipeline([('ct', ct), ('gb', gb)])\n",
    "\n",
    "#Fitting\n",
    "pipe.fit(X_train, y_train)"
   ]
  },
  {
   "cell_type": "code",
   "execution_count": 41,
   "metadata": {},
   "outputs": [
    {
     "data": {
      "text/plain": [
       "(175000, 11)"
      ]
     },
     "execution_count": 41,
     "metadata": {},
     "output_type": "execute_result"
    }
   ],
   "source": [
    "X_test.shape"
   ]
  },
  {
   "cell_type": "code",
   "execution_count": 42,
   "metadata": {
    "colab": {
     "base_uri": "https://localhost:8080/"
    },
    "executionInfo": {
     "elapsed": 1988,
     "status": "ok",
     "timestamp": 1712859790448,
     "user": {
      "displayName": "Dillon D",
      "userId": "10525518487357266623"
     },
     "user_tz": 240
    },
    "id": "xRNyDUlkuSJY",
    "outputId": "f6dd3769-ee3a-4b27-cb78-09a9527b6ad1"
   },
   "outputs": [
    {
     "data": {
      "text/plain": [
       "(0.8696095556417843, 0.8695550482254655)"
      ]
     },
     "execution_count": 42,
     "metadata": {},
     "output_type": "execute_result"
    }
   ],
   "source": [
    "pipe.score(X_train, y_train), pipe.score(X_test, y_test)"
   ]
  },
  {
   "cell_type": "code",
   "execution_count": 79,
   "metadata": {
    "executionInfo": {
     "elapsed": 232,
     "status": "ok",
     "timestamp": 1712860151625,
     "user": {
      "displayName": "Dillon D",
      "userId": "10525518487357266623"
     },
     "user_tz": 240
    },
    "id": "H_10llQ-YICy"
   },
   "outputs": [],
   "source": [
    "with open('../Taxis/taxi_model.pkl', 'wb') as f:\n",
    "    pickle.dump(pipe, f)"
   ]
  },
  {
   "cell_type": "code",
   "execution_count": 90,
   "metadata": {
    "id": "48xV2AkzaSpT"
   },
   "outputs": [
    {
     "name": "stdout",
     "output_type": "stream",
     "text": [
      "(3975858, 21)\n"
     ]
    },
    {
     "data": {
      "text/html": [
       "<div>\n",
       "<style scoped>\n",
       "    .dataframe tbody tr th:only-of-type {\n",
       "        vertical-align: middle;\n",
       "    }\n",
       "\n",
       "    .dataframe tbody tr th {\n",
       "        vertical-align: top;\n",
       "    }\n",
       "\n",
       "    .dataframe thead th {\n",
       "        text-align: right;\n",
       "    }\n",
       "</style>\n",
       "<table border=\"1\" class=\"dataframe\">\n",
       "  <thead>\n",
       "    <tr style=\"text-align: right;\">\n",
       "      <th></th>\n",
       "      <th>PULocationID</th>\n",
       "      <th>DOLocationID</th>\n",
       "      <th>trip_miles</th>\n",
       "      <th>base_passenger_fare</th>\n",
       "      <th>tips</th>\n",
       "      <th>driver_pay</th>\n",
       "      <th>congestion_surcharge</th>\n",
       "      <th>req_time</th>\n",
       "      <th>req_date</th>\n",
       "      <th>pickup_time</th>\n",
       "      <th>dropoff_date</th>\n",
       "      <th>dropoff_time</th>\n",
       "      <th>temp</th>\n",
       "      <th>preciptype</th>\n",
       "      <th>zone</th>\n",
       "      <th>borough</th>\n",
       "      <th>tips_driver_pay</th>\n",
       "      <th>trip_duration</th>\n",
       "      <th>month</th>\n",
       "      <th>day</th>\n",
       "      <th>borough_name</th>\n",
       "    </tr>\n",
       "    <tr>\n",
       "      <th>req_index</th>\n",
       "      <th></th>\n",
       "      <th></th>\n",
       "      <th></th>\n",
       "      <th></th>\n",
       "      <th></th>\n",
       "      <th></th>\n",
       "      <th></th>\n",
       "      <th></th>\n",
       "      <th></th>\n",
       "      <th></th>\n",
       "      <th></th>\n",
       "      <th></th>\n",
       "      <th></th>\n",
       "      <th></th>\n",
       "      <th></th>\n",
       "      <th></th>\n",
       "      <th></th>\n",
       "      <th></th>\n",
       "      <th></th>\n",
       "      <th></th>\n",
       "      <th></th>\n",
       "    </tr>\n",
       "  </thead>\n",
       "  <tbody>\n",
       "    <tr>\n",
       "      <th>2022-01-04</th>\n",
       "      <td>183.0</td>\n",
       "      <td>20.0</td>\n",
       "      <td>4.148</td>\n",
       "      <td>17.69</td>\n",
       "      <td>4.95</td>\n",
       "      <td>12.13</td>\n",
       "      <td>0.00</td>\n",
       "      <td>07:32:25</td>\n",
       "      <td>2022-01-04</td>\n",
       "      <td>07:38:00</td>\n",
       "      <td>2022-01-04</td>\n",
       "      <td>07:53:00</td>\n",
       "      <td>27.6</td>\n",
       "      <td>0</td>\n",
       "      <td>Pelham Bay</td>\n",
       "      <td>1</td>\n",
       "      <td>17.08</td>\n",
       "      <td>900</td>\n",
       "      <td>1</td>\n",
       "      <td>4</td>\n",
       "      <td>Bronx</td>\n",
       "    </tr>\n",
       "    <tr>\n",
       "      <th>2022-01-04</th>\n",
       "      <td>262.0</td>\n",
       "      <td>238.0</td>\n",
       "      <td>1.630</td>\n",
       "      <td>10.11</td>\n",
       "      <td>0.00</td>\n",
       "      <td>7.68</td>\n",
       "      <td>2.75</td>\n",
       "      <td>07:15:54</td>\n",
       "      <td>2022-01-04</td>\n",
       "      <td>07:17:00</td>\n",
       "      <td>2022-01-04</td>\n",
       "      <td>07:29:00</td>\n",
       "      <td>27.6</td>\n",
       "      <td>0</td>\n",
       "      <td>Yorkville East</td>\n",
       "      <td>2</td>\n",
       "      <td>7.68</td>\n",
       "      <td>720</td>\n",
       "      <td>1</td>\n",
       "      <td>4</td>\n",
       "      <td>Manhattan</td>\n",
       "    </tr>\n",
       "    <tr>\n",
       "      <th>2022-01-04</th>\n",
       "      <td>50.0</td>\n",
       "      <td>161.0</td>\n",
       "      <td>1.751</td>\n",
       "      <td>10.05</td>\n",
       "      <td>2.00</td>\n",
       "      <td>7.85</td>\n",
       "      <td>2.75</td>\n",
       "      <td>07:15:54</td>\n",
       "      <td>2022-01-04</td>\n",
       "      <td>07:23:00</td>\n",
       "      <td>2022-01-04</td>\n",
       "      <td>07:32:00</td>\n",
       "      <td>27.6</td>\n",
       "      <td>0</td>\n",
       "      <td>Clinton West</td>\n",
       "      <td>2</td>\n",
       "      <td>9.85</td>\n",
       "      <td>540</td>\n",
       "      <td>1</td>\n",
       "      <td>4</td>\n",
       "      <td>Manhattan</td>\n",
       "    </tr>\n",
       "    <tr>\n",
       "      <th>2022-01-04</th>\n",
       "      <td>124.0</td>\n",
       "      <td>124.0</td>\n",
       "      <td>1.633</td>\n",
       "      <td>10.76</td>\n",
       "      <td>0.00</td>\n",
       "      <td>5.47</td>\n",
       "      <td>0.00</td>\n",
       "      <td>07:15:54</td>\n",
       "      <td>2022-01-04</td>\n",
       "      <td>07:23:00</td>\n",
       "      <td>2022-01-04</td>\n",
       "      <td>07:28:00</td>\n",
       "      <td>27.6</td>\n",
       "      <td>0</td>\n",
       "      <td>Howard Beach</td>\n",
       "      <td>3</td>\n",
       "      <td>5.47</td>\n",
       "      <td>300</td>\n",
       "      <td>1</td>\n",
       "      <td>4</td>\n",
       "      <td>Queens</td>\n",
       "    </tr>\n",
       "    <tr>\n",
       "      <th>2022-01-04</th>\n",
       "      <td>180.0</td>\n",
       "      <td>63.0</td>\n",
       "      <td>6.070</td>\n",
       "      <td>24.41</td>\n",
       "      <td>0.00</td>\n",
       "      <td>16.33</td>\n",
       "      <td>0.00</td>\n",
       "      <td>07:15:54</td>\n",
       "      <td>2022-01-04</td>\n",
       "      <td>07:19:00</td>\n",
       "      <td>2022-01-04</td>\n",
       "      <td>07:38:00</td>\n",
       "      <td>27.6</td>\n",
       "      <td>0</td>\n",
       "      <td>Ozone Park</td>\n",
       "      <td>3</td>\n",
       "      <td>16.33</td>\n",
       "      <td>1140</td>\n",
       "      <td>1</td>\n",
       "      <td>4</td>\n",
       "      <td>Queens</td>\n",
       "    </tr>\n",
       "  </tbody>\n",
       "</table>\n",
       "</div>"
      ],
      "text/plain": [
       "            PULocationID  DOLocationID  trip_miles  base_passenger_fare  tips  \\\n",
       "req_index                                                                       \n",
       "2022-01-04         183.0          20.0       4.148                17.69  4.95   \n",
       "2022-01-04         262.0         238.0       1.630                10.11  0.00   \n",
       "2022-01-04          50.0         161.0       1.751                10.05  2.00   \n",
       "2022-01-04         124.0         124.0       1.633                10.76  0.00   \n",
       "2022-01-04         180.0          63.0       6.070                24.41  0.00   \n",
       "\n",
       "            driver_pay  congestion_surcharge  req_time    req_date  \\\n",
       "req_index                                                            \n",
       "2022-01-04       12.13                  0.00  07:32:25  2022-01-04   \n",
       "2022-01-04        7.68                  2.75  07:15:54  2022-01-04   \n",
       "2022-01-04        7.85                  2.75  07:15:54  2022-01-04   \n",
       "2022-01-04        5.47                  0.00  07:15:54  2022-01-04   \n",
       "2022-01-04       16.33                  0.00  07:15:54  2022-01-04   \n",
       "\n",
       "           pickup_time dropoff_date dropoff_time  temp  preciptype  \\\n",
       "req_index                                                            \n",
       "2022-01-04    07:38:00   2022-01-04     07:53:00  27.6           0   \n",
       "2022-01-04    07:17:00   2022-01-04     07:29:00  27.6           0   \n",
       "2022-01-04    07:23:00   2022-01-04     07:32:00  27.6           0   \n",
       "2022-01-04    07:23:00   2022-01-04     07:28:00  27.6           0   \n",
       "2022-01-04    07:19:00   2022-01-04     07:38:00  27.6           0   \n",
       "\n",
       "                      zone  borough  tips_driver_pay  trip_duration  month  \\\n",
       "req_index                                                                    \n",
       "2022-01-04      Pelham Bay        1            17.08            900      1   \n",
       "2022-01-04  Yorkville East        2             7.68            720      1   \n",
       "2022-01-04    Clinton West        2             9.85            540      1   \n",
       "2022-01-04    Howard Beach        3             5.47            300      1   \n",
       "2022-01-04      Ozone Park        3            16.33           1140      1   \n",
       "\n",
       "            day borough_name  \n",
       "req_index                     \n",
       "2022-01-04    4        Bronx  \n",
       "2022-01-04    4    Manhattan  \n",
       "2022-01-04    4    Manhattan  \n",
       "2022-01-04    4       Queens  \n",
       "2022-01-04    4       Queens  "
      ]
     },
     "execution_count": 90,
     "metadata": {},
     "output_type": "execute_result"
    }
   ],
   "source": [
    "#Feature engineering to tryand get a better R2\n",
    "\n",
    "#Reading in df\n",
    "df = pd.read_csv('./data/nyc_taxi_records.csv')\n",
    "\n",
    "#Setting index\n",
    "df = df.set_index('req_index')\n",
    "df.head()"
   ]
  },
  {
   "cell_type": "code",
   "execution_count": 91,
   "metadata": {},
   "outputs": [
    {
     "data": {
      "text/html": [
       "<div>\n",
       "<style scoped>\n",
       "    .dataframe tbody tr th:only-of-type {\n",
       "        vertical-align: middle;\n",
       "    }\n",
       "\n",
       "    .dataframe tbody tr th {\n",
       "        vertical-align: top;\n",
       "    }\n",
       "\n",
       "    .dataframe thead th {\n",
       "        text-align: right;\n",
       "    }\n",
       "</style>\n",
       "<table border=\"1\" class=\"dataframe\">\n",
       "  <thead>\n",
       "    <tr style=\"text-align: right;\">\n",
       "      <th></th>\n",
       "      <th>trip_miles</th>\n",
       "      <th>congestion_surcharge</th>\n",
       "      <th>req_time</th>\n",
       "      <th>req_date</th>\n",
       "      <th>dropoff_time</th>\n",
       "      <th>temp</th>\n",
       "      <th>preciptype</th>\n",
       "      <th>zone</th>\n",
       "      <th>tips_driver_pay</th>\n",
       "      <th>trip_duration</th>\n",
       "      <th>month</th>\n",
       "      <th>day</th>\n",
       "      <th>borough_name</th>\n",
       "    </tr>\n",
       "    <tr>\n",
       "      <th>req_index</th>\n",
       "      <th></th>\n",
       "      <th></th>\n",
       "      <th></th>\n",
       "      <th></th>\n",
       "      <th></th>\n",
       "      <th></th>\n",
       "      <th></th>\n",
       "      <th></th>\n",
       "      <th></th>\n",
       "      <th></th>\n",
       "      <th></th>\n",
       "      <th></th>\n",
       "      <th></th>\n",
       "    </tr>\n",
       "  </thead>\n",
       "  <tbody>\n",
       "    <tr>\n",
       "      <th>2022-01-04</th>\n",
       "      <td>4.148</td>\n",
       "      <td>0.00</td>\n",
       "      <td>07:32:25</td>\n",
       "      <td>2022-01-04</td>\n",
       "      <td>07:53:00</td>\n",
       "      <td>27.6</td>\n",
       "      <td>0</td>\n",
       "      <td>Pelham Bay</td>\n",
       "      <td>17.08</td>\n",
       "      <td>900</td>\n",
       "      <td>1</td>\n",
       "      <td>4</td>\n",
       "      <td>Bronx</td>\n",
       "    </tr>\n",
       "    <tr>\n",
       "      <th>2022-01-04</th>\n",
       "      <td>1.630</td>\n",
       "      <td>2.75</td>\n",
       "      <td>07:15:54</td>\n",
       "      <td>2022-01-04</td>\n",
       "      <td>07:29:00</td>\n",
       "      <td>27.6</td>\n",
       "      <td>0</td>\n",
       "      <td>Yorkville East</td>\n",
       "      <td>7.68</td>\n",
       "      <td>720</td>\n",
       "      <td>1</td>\n",
       "      <td>4</td>\n",
       "      <td>Manhattan</td>\n",
       "    </tr>\n",
       "    <tr>\n",
       "      <th>2022-01-04</th>\n",
       "      <td>1.751</td>\n",
       "      <td>2.75</td>\n",
       "      <td>07:15:54</td>\n",
       "      <td>2022-01-04</td>\n",
       "      <td>07:32:00</td>\n",
       "      <td>27.6</td>\n",
       "      <td>0</td>\n",
       "      <td>Clinton West</td>\n",
       "      <td>9.85</td>\n",
       "      <td>540</td>\n",
       "      <td>1</td>\n",
       "      <td>4</td>\n",
       "      <td>Manhattan</td>\n",
       "    </tr>\n",
       "    <tr>\n",
       "      <th>2022-01-04</th>\n",
       "      <td>1.633</td>\n",
       "      <td>0.00</td>\n",
       "      <td>07:15:54</td>\n",
       "      <td>2022-01-04</td>\n",
       "      <td>07:28:00</td>\n",
       "      <td>27.6</td>\n",
       "      <td>0</td>\n",
       "      <td>Howard Beach</td>\n",
       "      <td>5.47</td>\n",
       "      <td>300</td>\n",
       "      <td>1</td>\n",
       "      <td>4</td>\n",
       "      <td>Queens</td>\n",
       "    </tr>\n",
       "    <tr>\n",
       "      <th>2022-01-04</th>\n",
       "      <td>6.070</td>\n",
       "      <td>0.00</td>\n",
       "      <td>07:15:54</td>\n",
       "      <td>2022-01-04</td>\n",
       "      <td>07:38:00</td>\n",
       "      <td>27.6</td>\n",
       "      <td>0</td>\n",
       "      <td>Ozone Park</td>\n",
       "      <td>16.33</td>\n",
       "      <td>1140</td>\n",
       "      <td>1</td>\n",
       "      <td>4</td>\n",
       "      <td>Queens</td>\n",
       "    </tr>\n",
       "  </tbody>\n",
       "</table>\n",
       "</div>"
      ],
      "text/plain": [
       "            trip_miles  congestion_surcharge  req_time    req_date  \\\n",
       "req_index                                                            \n",
       "2022-01-04       4.148                  0.00  07:32:25  2022-01-04   \n",
       "2022-01-04       1.630                  2.75  07:15:54  2022-01-04   \n",
       "2022-01-04       1.751                  2.75  07:15:54  2022-01-04   \n",
       "2022-01-04       1.633                  0.00  07:15:54  2022-01-04   \n",
       "2022-01-04       6.070                  0.00  07:15:54  2022-01-04   \n",
       "\n",
       "           dropoff_time  temp  preciptype            zone  tips_driver_pay  \\\n",
       "req_index                                                                    \n",
       "2022-01-04     07:53:00  27.6           0      Pelham Bay            17.08   \n",
       "2022-01-04     07:29:00  27.6           0  Yorkville East             7.68   \n",
       "2022-01-04     07:32:00  27.6           0    Clinton West             9.85   \n",
       "2022-01-04     07:28:00  27.6           0    Howard Beach             5.47   \n",
       "2022-01-04     07:38:00  27.6           0      Ozone Park            16.33   \n",
       "\n",
       "            trip_duration  month  day borough_name  \n",
       "req_index                                           \n",
       "2022-01-04            900      1    4        Bronx  \n",
       "2022-01-04            720      1    4    Manhattan  \n",
       "2022-01-04            540      1    4    Manhattan  \n",
       "2022-01-04            300      1    4       Queens  \n",
       "2022-01-04           1140      1    4       Queens  "
      ]
     },
     "execution_count": 91,
     "metadata": {},
     "output_type": "execute_result"
    }
   ],
   "source": [
    "#Dropping what I willnot be using\n",
    "df = df.drop(columns=['PULocationID', 'DOLocationID', 'base_passenger_fare', 'tips', 'driver_pay', 'pickup_time', 'dropoff_date', 'borough'])\n",
    "\n",
    "#Creating new columns:\n",
    "\n",
    "#Day of week\n",
    "df['day_of_week'] = pd.to_datetime(df['req_date']).dt.strftime(\"%A\")\n",
    "\n",
    "#Hour of day\n",
    "df['hour'] = pd.to_datetime(df['req_time']).dt.hour\n",
    "\n",
    "#Minute of hour\n",
    "df['minute'] = pd.to_datetime(df['req_time']).dt.minute\n",
    "\n",
    "#Transforming trip duration into minutes\n",
    "df['trip_duration'] = [i/60 for i in df['trip_duration']]\n",
    "\n",
    "#Dropping the columns I no longer need\n",
    "df = df.drop(columns=['req_time', 'req_date', 'dropoff_time'])\n",
    "df = df.drop(columns=['req_time', 'req_date', 'dropoff_time'])\n",
    "\n",
    "#Renaming columns to match my streamlit app\n",
    "df = df.rename(columns={'tips_driver_pay': 'driver_made', 'day': 'day_of_month'})\n",
    "\n",
    "#Checking\n",
    "df.head()"
   ]
  },
  {
   "cell_type": "code",
   "execution_count": 114,
   "metadata": {},
   "outputs": [],
   "source": [
    "#Saving clean dataframe\n",
    "df.to_csv('./data/taxi_clean.csv')"
   ]
  },
  {
   "cell_type": "code",
   "execution_count": 108,
   "metadata": {},
   "outputs": [
    {
     "data": {
      "text/html": [
       "<style>#sk-container-id-23 {color: black;background-color: white;}#sk-container-id-23 pre{padding: 0;}#sk-container-id-23 div.sk-toggleable {background-color: white;}#sk-container-id-23 label.sk-toggleable__label {cursor: pointer;display: block;width: 100%;margin-bottom: 0;padding: 0.3em;box-sizing: border-box;text-align: center;}#sk-container-id-23 label.sk-toggleable__label-arrow:before {content: \"▸\";float: left;margin-right: 0.25em;color: #696969;}#sk-container-id-23 label.sk-toggleable__label-arrow:hover:before {color: black;}#sk-container-id-23 div.sk-estimator:hover label.sk-toggleable__label-arrow:before {color: black;}#sk-container-id-23 div.sk-toggleable__content {max-height: 0;max-width: 0;overflow: hidden;text-align: left;background-color: #f0f8ff;}#sk-container-id-23 div.sk-toggleable__content pre {margin: 0.2em;color: black;border-radius: 0.25em;background-color: #f0f8ff;}#sk-container-id-23 input.sk-toggleable__control:checked~div.sk-toggleable__content {max-height: 200px;max-width: 100%;overflow: auto;}#sk-container-id-23 input.sk-toggleable__control:checked~label.sk-toggleable__label-arrow:before {content: \"▾\";}#sk-container-id-23 div.sk-estimator input.sk-toggleable__control:checked~label.sk-toggleable__label {background-color: #d4ebff;}#sk-container-id-23 div.sk-label input.sk-toggleable__control:checked~label.sk-toggleable__label {background-color: #d4ebff;}#sk-container-id-23 input.sk-hidden--visually {border: 0;clip: rect(1px 1px 1px 1px);clip: rect(1px, 1px, 1px, 1px);height: 1px;margin: -1px;overflow: hidden;padding: 0;position: absolute;width: 1px;}#sk-container-id-23 div.sk-estimator {font-family: monospace;background-color: #f0f8ff;border: 1px dotted black;border-radius: 0.25em;box-sizing: border-box;margin-bottom: 0.5em;}#sk-container-id-23 div.sk-estimator:hover {background-color: #d4ebff;}#sk-container-id-23 div.sk-parallel-item::after {content: \"\";width: 100%;border-bottom: 1px solid gray;flex-grow: 1;}#sk-container-id-23 div.sk-label:hover label.sk-toggleable__label {background-color: #d4ebff;}#sk-container-id-23 div.sk-serial::before {content: \"\";position: absolute;border-left: 1px solid gray;box-sizing: border-box;top: 0;bottom: 0;left: 50%;z-index: 0;}#sk-container-id-23 div.sk-serial {display: flex;flex-direction: column;align-items: center;background-color: white;padding-right: 0.2em;padding-left: 0.2em;position: relative;}#sk-container-id-23 div.sk-item {position: relative;z-index: 1;}#sk-container-id-23 div.sk-parallel {display: flex;align-items: stretch;justify-content: center;background-color: white;position: relative;}#sk-container-id-23 div.sk-item::before, #sk-container-id-23 div.sk-parallel-item::before {content: \"\";position: absolute;border-left: 1px solid gray;box-sizing: border-box;top: 0;bottom: 0;left: 50%;z-index: -1;}#sk-container-id-23 div.sk-parallel-item {display: flex;flex-direction: column;z-index: 1;position: relative;background-color: white;}#sk-container-id-23 div.sk-parallel-item:first-child::after {align-self: flex-end;width: 50%;}#sk-container-id-23 div.sk-parallel-item:last-child::after {align-self: flex-start;width: 50%;}#sk-container-id-23 div.sk-parallel-item:only-child::after {width: 0;}#sk-container-id-23 div.sk-dashed-wrapped {border: 1px dashed gray;margin: 0 0.4em 0.5em 0.4em;box-sizing: border-box;padding-bottom: 0.4em;background-color: white;}#sk-container-id-23 div.sk-label label {font-family: monospace;font-weight: bold;display: inline-block;line-height: 1.2em;}#sk-container-id-23 div.sk-label-container {text-align: center;}#sk-container-id-23 div.sk-container {/* jupyter's `normalize.less` sets `[hidden] { display: none; }` but bootstrap.min.css set `[hidden] { display: none !important; }` so we also need the `!important` here to be able to override the default hidden behavior on the sphinx rendered scikit-learn.org. See: https://github.com/scikit-learn/scikit-learn/issues/21755 */display: inline-block !important;position: relative;}#sk-container-id-23 div.sk-text-repr-fallback {display: none;}</style><div id=\"sk-container-id-23\" class=\"sk-top-container\"><div class=\"sk-text-repr-fallback\"><pre>Pipeline(steps=[(&#x27;ct&#x27;,\n",
       "                 ColumnTransformer(remainder=&#x27;passthrough&#x27;,\n",
       "                                   transformers=[(&#x27;ohe&#x27;, OneHotEncoder(),\n",
       "                                                  [&#x27;borough_name&#x27;, &#x27;zone&#x27;,\n",
       "                                                   &#x27;day_of_week&#x27;])])),\n",
       "                (&#x27;gb&#x27;, GradientBoostingRegressor(random_state=2024))])</pre><b>In a Jupyter environment, please rerun this cell to show the HTML representation or trust the notebook. <br />On GitHub, the HTML representation is unable to render, please try loading this page with nbviewer.org.</b></div><div class=\"sk-container\" hidden><div class=\"sk-item sk-dashed-wrapped\"><div class=\"sk-label-container\"><div class=\"sk-label sk-toggleable\"><input class=\"sk-toggleable__control sk-hidden--visually\" id=\"sk-estimator-id-153\" type=\"checkbox\" ><label for=\"sk-estimator-id-153\" class=\"sk-toggleable__label sk-toggleable__label-arrow\">Pipeline</label><div class=\"sk-toggleable__content\"><pre>Pipeline(steps=[(&#x27;ct&#x27;,\n",
       "                 ColumnTransformer(remainder=&#x27;passthrough&#x27;,\n",
       "                                   transformers=[(&#x27;ohe&#x27;, OneHotEncoder(),\n",
       "                                                  [&#x27;borough_name&#x27;, &#x27;zone&#x27;,\n",
       "                                                   &#x27;day_of_week&#x27;])])),\n",
       "                (&#x27;gb&#x27;, GradientBoostingRegressor(random_state=2024))])</pre></div></div></div><div class=\"sk-serial\"><div class=\"sk-item sk-dashed-wrapped\"><div class=\"sk-label-container\"><div class=\"sk-label sk-toggleable\"><input class=\"sk-toggleable__control sk-hidden--visually\" id=\"sk-estimator-id-154\" type=\"checkbox\" ><label for=\"sk-estimator-id-154\" class=\"sk-toggleable__label sk-toggleable__label-arrow\">ct: ColumnTransformer</label><div class=\"sk-toggleable__content\"><pre>ColumnTransformer(remainder=&#x27;passthrough&#x27;,\n",
       "                  transformers=[(&#x27;ohe&#x27;, OneHotEncoder(),\n",
       "                                 [&#x27;borough_name&#x27;, &#x27;zone&#x27;, &#x27;day_of_week&#x27;])])</pre></div></div></div><div class=\"sk-parallel\"><div class=\"sk-parallel-item\"><div class=\"sk-item\"><div class=\"sk-label-container\"><div class=\"sk-label sk-toggleable\"><input class=\"sk-toggleable__control sk-hidden--visually\" id=\"sk-estimator-id-155\" type=\"checkbox\" ><label for=\"sk-estimator-id-155\" class=\"sk-toggleable__label sk-toggleable__label-arrow\">ohe</label><div class=\"sk-toggleable__content\"><pre>[&#x27;borough_name&#x27;, &#x27;zone&#x27;, &#x27;day_of_week&#x27;]</pre></div></div></div><div class=\"sk-serial\"><div class=\"sk-item\"><div class=\"sk-estimator sk-toggleable\"><input class=\"sk-toggleable__control sk-hidden--visually\" id=\"sk-estimator-id-156\" type=\"checkbox\" ><label for=\"sk-estimator-id-156\" class=\"sk-toggleable__label sk-toggleable__label-arrow\">OneHotEncoder</label><div class=\"sk-toggleable__content\"><pre>OneHotEncoder()</pre></div></div></div></div></div></div><div class=\"sk-parallel-item\"><div class=\"sk-item\"><div class=\"sk-label-container\"><div class=\"sk-label sk-toggleable\"><input class=\"sk-toggleable__control sk-hidden--visually\" id=\"sk-estimator-id-157\" type=\"checkbox\" ><label for=\"sk-estimator-id-157\" class=\"sk-toggleable__label sk-toggleable__label-arrow\">remainder</label><div class=\"sk-toggleable__content\"><pre>[&#x27;trip_miles&#x27;, &#x27;congestion_surcharge&#x27;, &#x27;temp&#x27;, &#x27;preciptype&#x27;, &#x27;trip_duration&#x27;, &#x27;month&#x27;, &#x27;day_of_month&#x27;, &#x27;hour&#x27;, &#x27;minute&#x27;]</pre></div></div></div><div class=\"sk-serial\"><div class=\"sk-item\"><div class=\"sk-estimator sk-toggleable\"><input class=\"sk-toggleable__control sk-hidden--visually\" id=\"sk-estimator-id-158\" type=\"checkbox\" ><label for=\"sk-estimator-id-158\" class=\"sk-toggleable__label sk-toggleable__label-arrow\">passthrough</label><div class=\"sk-toggleable__content\"><pre>passthrough</pre></div></div></div></div></div></div></div></div><div class=\"sk-item\"><div class=\"sk-estimator sk-toggleable\"><input class=\"sk-toggleable__control sk-hidden--visually\" id=\"sk-estimator-id-159\" type=\"checkbox\" ><label for=\"sk-estimator-id-159\" class=\"sk-toggleable__label sk-toggleable__label-arrow\">GradientBoostingRegressor</label><div class=\"sk-toggleable__content\"><pre>GradientBoostingRegressor(random_state=2024)</pre></div></div></div></div></div></div></div>"
      ],
      "text/plain": [
       "Pipeline(steps=[('ct',\n",
       "                 ColumnTransformer(remainder='passthrough',\n",
       "                                   transformers=[('ohe', OneHotEncoder(),\n",
       "                                                  ['borough_name', 'zone',\n",
       "                                                   'day_of_week'])])),\n",
       "                ('gb', GradientBoostingRegressor(random_state=2024))])"
      ]
     },
     "execution_count": 108,
     "metadata": {},
     "output_type": "execute_result"
    }
   ],
   "source": [
    "#Attempthing Gradient Boost with more data\n",
    "\n",
    "#Setting X2, y2\n",
    "X2 = df.drop(columns=['driver_made'])\n",
    "y2 = df['driver_made']\n",
    "\n",
    "#Train Test Split\n",
    "X2_train, X2_test, y2_train, y2_test = train_test_split(X2, y2, random_state=2024)\n",
    "\n",
    "#Instantiating GradientBoost and Preprocessor\n",
    "gb = GradientBoostingRegressor(random_state=2024)\n",
    "ohe = OneHotEncoder()\n",
    "\n",
    "#Creating my column transformer\n",
    "cat_var = ['borough_name', 'zone', 'day_of_week']\n",
    "ct = ColumnTransformer([\n",
    "    ('ohe', OneHotEncoder(), cat_var)], remainder ='passthrough')\n",
    "\n",
    "#Creating my pipeline\n",
    "pipe2 = Pipeline([('ct', ct), ('gb', gb)])\n",
    "\n",
    "#Fitting\n",
    "pipe2.fit(X2_train, y2_train)"
   ]
  },
  {
   "cell_type": "code",
   "execution_count": 109,
   "metadata": {},
   "outputs": [
    {
     "name": "stdout",
     "output_type": "stream",
     "text": [
      "(2981893, 12)\n",
      "(993965, 12)\n",
      "(2981893,)\n",
      "(993965,)\n"
     ]
    }
   ],
   "source": [
    "print(X2_train.shape)\n",
    "print(X2_test.shape)\n",
    "print(y2_train.shape)\n",
    "print(y2_test.shape)"
   ]
  },
  {
   "cell_type": "code",
   "execution_count": 110,
   "metadata": {},
   "outputs": [
    {
     "data": {
      "text/plain": [
       "(0.8736653666624892, 0.8744832863952346)"
      ]
     },
     "execution_count": 110,
     "metadata": {},
     "output_type": "execute_result"
    }
   ],
   "source": [
    "#Getting the scores\n",
    "pipe2.score(X2_train, y2_train), pipe.score(X2_test, y2_test)"
   ]
  },
  {
   "cell_type": "code",
   "execution_count": 111,
   "metadata": {},
   "outputs": [],
   "source": [
    "#Saving the model\n",
    "with open('../Taxis/larger_model.pkl', 'wb') as a:\n",
    "    pickle.dump(pipe2, a)"
   ]
  },
  {
   "cell_type": "markdown",
   "metadata": {},
   "source": [
    "## 4.02 RandomForest"
   ]
  },
  {
   "cell_type": "code",
   "execution_count": null,
   "metadata": {},
   "outputs": [],
   "source": [
    "#Importing the models\n",
    "from sklearn.ensemble import RandomForestRegressor, ExtraTreesRegressor\n",
    "\n",
    "#Reading in fresh dataframe\n",
    "df = pd.read_csv('../data/nyc_taxi_records.csv')\n",
    "\n",
    "#Setting the req_index column as the index\n",
    "df.set_index('req_index', inplace=True)\n",
    "\n",
    "#Converting the index to datetime\n",
    "df.index = pd.to_datetime(df.index, format= '%Y-%m-%d')\n",
    "\n",
    "#Checking the dtypes\n",
    "df.dtypes"
   ]
  },
  {
   "cell_type": "code",
   "execution_count": null,
   "metadata": {},
   "outputs": [],
   "source": [
    "#Feature Engineering/ More EDA\n",
    "\n",
    "#Dropping df columns I don't want\n",
    "new_df = df.drop(columns=['PULocationID', 'DOLocationID',\n",
    "       'pickup_time', 'dropoff_date', 'dropoff_time', 'preciptype',\n",
    "      'borough', 'tips_driver_pay', 'month', 'day'])\n",
    "\n",
    "#Creating new datetime columns\n",
    "new_df['req_time'] = pd.to_datetime(new_df['req_time'], format = 'mixed')\n",
    "\n",
    "#Hour\n",
    "new_df['hour'] = new_df['req_time'].dt.hour\n",
    "\n",
    "#Day of week\n",
    "new_df['day_of_week'] = new_df['req_date'].dt.day_name()\n",
    "\n",
    "#Dropping columns no longer need\n",
    "new_df = new_df.drop(columns = ['req_time', 'req_date'])\n",
    "\n",
    "#Dropping NAs\n",
    "new_df = new_df.dropna()\n",
    "\n",
    "#Creating a driver_made column\n",
    "new_df['driver_made'] = new_df['driver_pay'] + new_df['tips']\n",
    "\n",
    "#Dropping the columns no longer needed\n",
    "new_df = new_df.drop(columns=['driver_pay', 'tips'])"
   ]
  },
  {
   "cell_type": "code",
   "execution_count": null,
   "metadata": {},
   "outputs": [],
   "source": [
    "#Creating a smaller dataset to make it quicker\n",
    "new_df = new_df.sample(n=1000000)"
   ]
  },
  {
   "cell_type": "code",
   "execution_count": null,
   "metadata": {},
   "outputs": [],
   "source": [
    "#Make X, y\n",
    "X = new_df.drop(columns=['driver_made', 'congestion_surcharge', 'base_passenger_fare'])\n",
    "y = new_df['driver_made']\n",
    "\n",
    "#TTS\n",
    "X_train, X_test, y_train, y_test = train_test_split(X, y, random_state=2024)\n",
    "\n",
    "#Instantiating\n",
    "ohe = OneHotEncoder()\n",
    "sc = StandardScaler()\n",
    "rf = RandomForestRegressor()\n",
    "\n",
    "cat_var = ['borough_name', 'zone', 'day_of_week']\n",
    "\n",
    "ct = ColumnTransformer([\n",
    "    ('ohe', OneHotEncoder(), cat_var)], remainder ='passthrough')\n",
    "\n",
    "#Building the pipeline\n",
    "pipe = Pipeline([\n",
    "    ('ct', ct),\n",
    "    ('sc', StandardScaler(with_mean=False)),\n",
    "    ('rf', RandomForestRegressor(n_estimators=200, \n",
    "                                 max_depth=30, min_samples_split=.05,\n",
    "                                max_features='sqrt', n_jobs=4))\n",
    "     ])\n",
    "\n",
    "#Fitting the model\n",
    "pipe.fit(X_train, y_train)\n",
    "\n",
    "#Looking at r2 scores\n",
    "pipe.score(X_train, y_train), pipe.score(X_test, y_test)"
   ]
  },
  {
   "cell_type": "code",
   "execution_count": null,
   "metadata": {},
   "outputs": [],
   "source": [
    "#Feature engineering/tuning to build pipe2\n",
    "pipe2 = Pipeline([\n",
    "    ('ct', ct),\n",
    "    ('sc', StandardScaler(with_mean=False)),\n",
    "    ('rf', RandomForestRegressor(n_estimators=250, \n",
    "                                 max_depth=30, min_samples_split=300,\n",
    "                                 max_features='sqrt', n_jobs=4))\n",
    "     ])\n",
    "\n",
    "#Fitting\n",
    "pipe2.fit(X_train, y_train)\n",
    "\n",
    "#Looking at r2 scores\n",
    "pipe2.score(X_train, y_train), pipe2.score(X_test, y_test)"
   ]
  },
  {
   "cell_type": "markdown",
   "metadata": {},
   "source": [
    "## 4.03 LinearRegression"
   ]
  },
  {
   "cell_type": "code",
   "execution_count": null,
   "metadata": {},
   "outputs": [],
   "source": [
    "#Imports I'll need\n",
    "from sklearn.linear_model import LinearRegression, Lasso, LassoCV, Ridge, RidgeCV\n",
    "from sklearn import metrics"
   ]
  },
  {
   "cell_type": "code",
   "execution_count": null,
   "metadata": {},
   "outputs": [],
   "source": [
    "#Reading in fresh dataframe\n",
    "df = pd.read_csv('../data/nyc_taxi_records.csv')\n",
    "\n",
    "#Setting the req_index column as the index\n",
    "df.set_index('req_index', inplace=True)\n",
    "\n",
    "#Converting the index to datetime\n",
    "df.index = pd.to_datetime(df.index, format= '%Y-%m-%d')\n",
    "\n",
    "#Checking the dtypes\n",
    "df.dtypes"
   ]
  },
  {
   "cell_type": "code",
   "execution_count": null,
   "metadata": {},
   "outputs": [],
   "source": [
    "#Feature Engineering/ More EDA\n",
    "\n",
    "#Dropping df columns I don't want\n",
    "new_df = df.drop(columns=['PULocationID', 'DOLocationID',\n",
    "       'pickup_time', 'dropoff_date', 'dropoff_time', 'preciptype',\n",
    "      'borough', 'tips_driver_pay', 'month', 'day'])\n",
    "\n",
    "#Creating new datetime columns\n",
    "new_df['req_time'] = pd.to_datetime(new_df['req_time'], format = 'mixed')\n",
    "\n",
    "#Hour\n",
    "new_df['hour'] = new_df['req_time'].dt.hour\n",
    "\n",
    "#Day of week\n",
    "new_df['day_of_week'] = new_df['req_date'].dt.day_name()\n",
    "\n",
    "#Dropping columns no longer need\n",
    "new_df = new_df.drop(columns = ['req_time', 'req_date'])\n",
    "\n",
    "#Dropping NAs\n",
    "new_df = new_df.dropna()\n",
    "\n",
    "#Creating a driver_made column\n",
    "new_df['driver_made'] = new_df['driver_pay'] + new_df['tips']\n",
    "\n",
    "#Dropping the columns no longer needed\n",
    "new_df = new_df.drop(columns=['driver_pay', 'tips'])"
   ]
  },
  {
   "cell_type": "code",
   "execution_count": null,
   "metadata": {},
   "outputs": [],
   "source": [
    "#Creating a smaller dataset\n",
    "new_df = new_df.sample(n=500000, random_state=2024)"
   ]
  },
  {
   "cell_type": "code",
   "execution_count": null,
   "metadata": {},
   "outputs": [],
   "source": [
    "#Ordinal mapping to get numerics\n",
    "\n",
    "#Days of week\n",
    "days = {'Sunday': 1, 'Monday': 2, 'Tuesday': 3, 'Wednesday': 4, 'Thursday': 5, 'Friday': 6, 'Saturday': 7}\n",
    "new_df['day_of_week'] = new_df['day_of_week'].map(days)\n",
    "\n",
    "#Boroughs\n",
    "boroughs = {'Manhattan': 1, 'Brooklyn': 2, 'Queens': 3, 'Bronx': 4, 'Staten Island': 5}\n",
    "new_df['borough_name'] = new_df['borough_name'].map(boroughs)"
   ]
  },
  {
   "cell_type": "code",
   "execution_count": null,
   "metadata": {},
   "outputs": [],
   "source": [
    "#Dummifying taxi zones\n",
    "new_df = pd.get_dummies(columns=['zone'], data=new_df).astype(int)"
   ]
  },
  {
   "cell_type": "code",
   "execution_count": null,
   "metadata": {},
   "outputs": [],
   "source": [
    "#Setting my X, y\n",
    "X = new_df.drop(columns=['driver_made', 'base_passenger_fare', 'congestion_surcharge'])\n",
    "y = new_df['driver_made']\n",
    "\n",
    "#Train-test-split\n",
    "X_train, X_test, y_train, y_test = train_test_split(X, y, random_state=2024)\n",
    "\n",
    "#Checking the baseline\n",
    "y_train.mean()"
   ]
  },
  {
   "cell_type": "code",
   "execution_count": null,
   "metadata": {},
   "outputs": [],
   "source": [
    "#Instantiating preprocessor and model\n",
    "sc = StandardScaler()\n",
    "lr = LinearRegression()\n",
    "\n",
    "#Building the pipe\n",
    "pipe = Pipeline([\n",
    "    ('sc', StandardScaler()),\n",
    "    ('lr', LinearRegression())\n",
    "])\n",
    "\n",
    "#Fitting the pipe\n",
    "pipe.fit(X_train, y_train)\n",
    "\n",
    "#Testing the pipe\n",
    "pipe.score(X_test, y_test), pipe.score(X_test, y_test)"
   ]
  },
  {
   "cell_type": "code",
   "execution_count": null,
   "metadata": {},
   "outputs": [],
   "source": [
    "# More Feature Engineering/ building a pipe with less features\n",
    "\n",
    "#Creating new X with less features\n",
    "X2 = new_df.drop(columns=['driver_made', 'congestion_surcharge', 'base_passenger_fare', 'trip_duration'])\n",
    "y= new_df['driver_made']\n",
    "\n",
    "#Perfomring tts\n",
    "X2_train, X2_test, y_train, y_test = train_test_split(X2, y, random_state=2024)\n",
    "\n",
    "\n",
    "#Fitting the new tts\n",
    "pipe.fit(X2_train, y_train)\n",
    "\n",
    "#Getting Score\n",
    "pipe.score(X2_test, y_test), pipe.score(X2_test, y_test)\n"
   ]
  },
  {
   "cell_type": "code",
   "execution_count": null,
   "metadata": {},
   "outputs": [],
   "source": [
    "# Trying a LassoCV\n",
    "\n",
    "# Set up a list of Lasso alphas to check.\n",
    "l_alphas = np.logspace(-3, 0, 100)\n",
    "\n",
    "# Cross-validate over our list of Lasso alphas.\n",
    "lasso_cv = LassoCV(alphas=l_alphas, cv=5, max_iter=10)\n",
    "\n",
    "sc = StandardScaler()\n",
    "\n",
    "pipe2 = Pipeline([\n",
    "    ('sc', StandardScaler()),\n",
    "    ('lasso_cv', lasso_cv)\n",
    "])\n",
    "\n",
    "# Fit model using best ridge alpha!\n",
    "pipe2.fit(X_train, y_train)\n",
    "\n",
    "#Checking the scores\n",
    "pipe2.score(X_test, y_test), pipe2.score(X_test, y_test)"
   ]
  },
  {
   "cell_type": "code",
   "execution_count": null,
   "metadata": {},
   "outputs": [],
   "source": [
    "#Trying a RidgeRegression\n",
    "\n",
    "#Setting alphas\n",
    "r_alphas = np.logspace(0, 5, 100)\n",
    "\n",
    "# Cross-validate over our list of ridge alphas.\n",
    "ridge_cv = RidgeCV(alphas=r_alphas, scoring='r2', cv=5)\n",
    "\n",
    "sc = StandardScaler()\n",
    "\n",
    "pipe3 = Pipeline([\n",
    "    ('sc', StandardScaler()),\n",
    "    ('ridge_cv', ridge_cv)\n",
    "])\n",
    "\n",
    "# Fit model using best ridge alpha!\n",
    "pipe3.fit(X_train, y_train)\n",
    "\n",
    "#Getting score\n",
    "pipe3.score(X_test, y_test), pipe3.score(X_test, y_test)"
   ]
  },
  {
   "cell_type": "code",
   "execution_count": null,
   "metadata": {},
   "outputs": [],
   "source": [
    "#Checking the best alpha_\n",
    "ridge_cv.alpha_"
   ]
  },
  {
   "cell_type": "markdown",
   "metadata": {},
   "source": [
    "## 4.04 XGBoost"
   ]
  },
  {
   "cell_type": "code",
   "execution_count": null,
   "metadata": {},
   "outputs": [],
   "source": [
    "#Importing model\n",
    "import xgboost as xgb\n",
    "from xgboost.sklearn import XGBRegressor\n",
    "\n"
   ]
  },
  {
   "cell_type": "code",
   "execution_count": null,
   "metadata": {},
   "outputs": [],
   "source": [
    "#Importing data set\n",
    "new_df = pd.read_csv('../data/taxi_vars.csv')\n",
    "\n",
    "#Setting the index\n",
    "new_df = new_df.set_index('req_index')\n",
    "\n",
    "#Getting a smaller sample to make my models faster\n",
    "new_df = new_df.sample(n=500000, random_state=2024)\n",
    "\n",
    "#dropping unnecessary columns\n",
    "new_df = new_df.drop(columns=['req_time',\t'req_date'])\n",
    "\n",
    "#Checking\n",
    "new_df.head()"
   ]
  },
  {
   "cell_type": "code",
   "execution_count": null,
   "metadata": {},
   "outputs": [],
   "source": [
    "#Making X, y\n",
    "X = new_df.drop(columns=['driver_made', 'congestion_surcharge', 'base_passenger_fare'])\n",
    "y = new_df['driver_made']\n",
    "\n",
    "#Train-Test-Split\n",
    "X_train, X_test, y_train, y_test = train_test_split(X, y, random_state=2024)\n",
    "\n",
    "#Instantiating preprocessor\n",
    "ohe = OneHotEncoder() \n",
    "\n",
    "#Creating pipeline and ColumnTransformer for preprocessing\n",
    "cat_var = ['borough_name', 'zone', 'day_of_week']\n",
    "cat_pipe = Pipeline([\n",
    "    ('ohe', OneHotEncoder(handle_unknown='ignore'))\n",
    "])\n",
    "\n",
    "ct = ColumnTransformer([\n",
    "    ('cat_pipe', cat_pipe, cat_var)])\n",
    "\n",
    "#Instantiating XGBoost\n",
    "xgb = XGBRegressor(n_estimators=250, \n",
    "                   max_depth=30, min_samples_split=200,\n",
    "                   max_features=['sqrt', 'log2'], n_jobs=4, random_state=2024, \n",
    "                   enable_categorical=True)\n",
    "\n",
    "#Building the pipeline of transformers and the model\n",
    "pipe = Pipeline([\n",
    "    ('ct', ct),\n",
    "    ('xgb', xgb)\n",
    "])\n",
    "\n",
    "#Fitting the model\n",
    "pipe.fit(X_train, y_train)"
   ]
  },
  {
   "cell_type": "code",
   "execution_count": null,
   "metadata": {},
   "outputs": [],
   "source": [
    "#Checking the r2 scores\n",
    "pipe.score(X_train, y_train), pipe.score(X_test, y_test)"
   ]
  },
  {
   "cell_type": "code",
   "execution_count": null,
   "metadata": {},
   "outputs": [],
   "source": [
    "#Checking RMSE scores\n",
    "\n",
    "#Predictions\n",
    "train_preds = pipe.predict(X_train)\n",
    "test_preds = pipe.predict(X_test)\n",
    "\n",
    "#Evaluate the model\n",
    "train_rmse = np.sqrt(mean_squared_error(y_train, train_preds))\n",
    "test_rmse = np.sqrt(mean_squared_error(y_test, test_preds))\n",
    "\n",
    "#Printing scores\n",
    "print(\"Train RMSE:\", train_rmse)\n",
    "print(\"Test RMSE:\", test_rmse)"
   ]
  },
  {
   "cell_type": "code",
   "execution_count": null,
   "metadata": {},
   "outputs": [],
   "source": [
    "#Feature engineering/tuning parameter for XGB2 model\n",
    "\n",
    "#Instantiatingnew model and params\n",
    "xgb2 = XGBRegressor(n_estimators=300, \n",
    "                   max_depth=20, min_samples_split=200,\n",
    "                   max_features=['sqrt'], n_jobs=4, random_state=2024, \n",
    "                   enable_categorical=True)\n",
    "\n",
    "#Building a second pipeline\n",
    "pipe2 = Pipeline([\n",
    "    ('ct', ct),\n",
    "    ('xgb2', xgb2)\n",
    "])\n",
    "\n",
    "#Fitting to new pipe\n",
    "pipe2.fit(X_train, y_train)"
   ]
  },
  {
   "cell_type": "code",
   "execution_count": null,
   "metadata": {},
   "outputs": [],
   "source": [
    "#Checking XGB2 RMSE scores\n",
    "\n",
    "#Predictions\n",
    "train_preds = pipe2.predict(X_train)\n",
    "test_preds = pipe2.predict(X_test)\n",
    "\n",
    "# Evaluate the model\n",
    "train_rmse = np.sqrt(mean_squared_error(y_train, train_preds))\n",
    "test_rmse = np.sqrt(mean_squared_error(y_test, test_preds))\n",
    "\n",
    "print(\"Train RMSE:\", train_rmse)\n",
    "print(\"Test RMSE:\", test_rmse)\n",
    "\n",
    "#r2 scores\n",
    "print(pipe2.score(X_train, y_train), pipe2.score(X_test, y_test))"
   ]
  },
  {
   "cell_type": "code",
   "execution_count": null,
   "metadata": {},
   "outputs": [],
   "source": [
    "#Feature engineering/tuning parameter for XGB3/pipe3 model\n",
    "\n",
    "#Instantiating XGB3 with new params\n",
    "xgb3 = XGBRegressor(n_estimators=500, \n",
    "                   max_depth=10, min_samples_split=200,\n",
    "                   min_child_weight=1, random_state=2024, \n",
    "                   enable_categorical=True)\n",
    "\n",
    "#Building pipe3\n",
    "pipe3 = Pipeline([\n",
    "    ('ct', ct),\n",
    "    ('xgb3', xgb3)\n",
    "])\n",
    "\n",
    "#Fitting to pipe3\n",
    "pipe3.fit(X_train, y_train)"
   ]
  },
  {
   "cell_type": "code",
   "execution_count": null,
   "metadata": {},
   "outputs": [],
   "source": [
    "#Checking XGB2 RMSE scores\n",
    "\n",
    "#Predictions\n",
    "train_preds = pipe3.predict(X_train)\n",
    "test_preds = pipe3.predict(X_test)\n",
    "\n",
    "# Evaluate the model\n",
    "train_rmse = np.sqrt(mean_squared_error(y_train, train_preds))\n",
    "test_rmse = np.sqrt(mean_squared_error(y_test, test_preds))\n",
    "\n",
    "print(\"Train RMSE:\", train_rmse)\n",
    "print(\"Test RMSE:\", test_rmse)\n",
    "\n",
    "#r2 scores\n",
    "print(pipe3.score(X_train, y_train), pipe3.score(X_test, y_test))"
   ]
  },
  {
   "cell_type": "code",
   "execution_count": null,
   "metadata": {},
   "outputs": [],
   "source": []
  },
  {
   "cell_type": "code",
   "execution_count": null,
   "metadata": {},
   "outputs": [],
   "source": []
  },
  {
   "cell_type": "code",
   "execution_count": null,
   "metadata": {},
   "outputs": [],
   "source": []
  },
  {
   "cell_type": "code",
   "execution_count": null,
   "metadata": {},
   "outputs": [],
   "source": []
  },
  {
   "cell_type": "code",
   "execution_count": null,
   "metadata": {},
   "outputs": [],
   "source": []
  }
 ],
 "metadata": {
  "colab": {
   "authorship_tag": "ABX9TyONhAYLjOTTsMTlLbwwbgQ3",
   "provenance": [
    {
     "file_id": "1Ja_tRYZhzv-K6L-ZCCSy4d9MabSChWr4",
     "timestamp": 1712859588116
    }
   ]
  },
  "kernelspec": {
   "display_name": "Python 3 (ipykernel)",
   "language": "python",
   "name": "python3"
  },
  "language_info": {
   "codemirror_mode": {
    "name": "ipython",
    "version": 3
   },
   "file_extension": ".py",
   "mimetype": "text/x-python",
   "name": "python",
   "nbconvert_exporter": "python",
   "pygments_lexer": "ipython3",
   "version": "3.11.5"
  }
 },
 "nbformat": 4,
 "nbformat_minor": 4
}
