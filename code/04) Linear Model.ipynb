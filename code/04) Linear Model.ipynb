{
 "cells": [
  {
   "cell_type": "markdown",
   "id": "566fad94-19f0-4ad7-ab7b-23275ea76951",
   "metadata": {},
   "source": [
    "# Linear Modeling"
   ]
  },
  {
   "cell_type": "code",
   "execution_count": 60,
   "id": "e7ab81df-5ad5-4567-b725-bd597683e5b3",
   "metadata": {},
   "outputs": [],
   "source": [
    "import pandas as pd\n",
    "import numpy as np\n",
    "import matplotlib.pyplot as plt\n",
    "from sklearn.model_selection import train_test_split\n",
    "from sklearn.metrics import r2_score, mean_squared_error\n",
    "\n",
    "import statsmodels.api as sm"
   ]
  },
  {
   "cell_type": "code",
   "execution_count": 18,
   "id": "9361e1cb-2f8b-4ed4-865d-e5a456d870e1",
   "metadata": {},
   "outputs": [
    {
     "data": {
      "text/plain": [
       "PULocationID            float64\n",
       "DOLocationID            float64\n",
       "trip_miles              float64\n",
       "base_passenger_fare     float64\n",
       "tips                    float64\n",
       "driver_pay              float64\n",
       "congestion_surcharge    float64\n",
       "req_time                 object\n",
       "req_date                 object\n",
       "pickup_time              object\n",
       "dropoff_date             object\n",
       "dropoff_time             object\n",
       "temp                    float64\n",
       "preciptype                int64\n",
       "zone                     object\n",
       "borough                   int64\n",
       "tips_driver_pay         float64\n",
       "trip_duration             int64\n",
       "month                     int64\n",
       "day                       int64\n",
       "borough_name             object\n",
       "dtype: object"
      ]
     },
     "execution_count": 18,
     "metadata": {},
     "output_type": "execute_result"
    }
   ],
   "source": [
    "#Reading in dataframe\n",
    "df = pd.read_csv('../data/nyc_taxi_records.csv')\n",
    "\n",
    "#Setting the req_index column as the index\n",
    "df.set_index('req_index', inplace=True)\n",
    "\n",
    "#Converting the index to datetime\n",
    "df.index = pd.to_datetime(df.index, format= '%Y-%m-%d')\n",
    "\n",
    "#Checking the dtypes\n",
    "df.dtypes"
   ]
  },
  {
   "cell_type": "code",
   "execution_count": 19,
   "id": "1e721421-324a-45dd-b622-4c2803f45054",
   "metadata": {},
   "outputs": [],
   "source": [
    "#Creating a df by week\n",
    "df_weekly = df['tips_driver_pay'].resample('W').mean()\n",
    "by_week = pd.DataFrame(df_weekly)\n",
    "\n",
    "#by_day\n",
    "by_day = df['tips_driver_pay'].resample(\"D\").mean()\n",
    "by_day = pd.DataFrame(by_day)\n",
    "\n",
    "#by_month\n",
    "by_month = df['tips_driver_pay'].resample(\"ME\").mean()\n",
    "by_month = pd.DataFrame(by_month)"
   ]
  },
  {
   "cell_type": "code",
   "execution_count": 20,
   "id": "59f1f830-bfdd-4f08-8cac-cbac96526edd",
   "metadata": {},
   "outputs": [],
   "source": [
    "#building a dataset to build a machine learning model later ona\n",
    "week = pd.DataFrame()\n",
    "day = pd.DataFrame()\n",
    "month = pd.DataFrame()"
   ]
  },
  {
   "cell_type": "code",
   "execution_count": 51,
   "id": "12b159a0-f938-46b3-9f56-89a9b00c656b",
   "metadata": {},
   "outputs": [
    {
     "data": {
      "text/html": [
       "<div>\n",
       "<style scoped>\n",
       "    .dataframe tbody tr th:only-of-type {\n",
       "        vertical-align: middle;\n",
       "    }\n",
       "\n",
       "    .dataframe tbody tr th {\n",
       "        vertical-align: top;\n",
       "    }\n",
       "\n",
       "    .dataframe thead th {\n",
       "        text-align: right;\n",
       "    }\n",
       "</style>\n",
       "<table border=\"1\" class=\"dataframe\">\n",
       "  <thead>\n",
       "    <tr style=\"text-align: right;\">\n",
       "      <th></th>\n",
       "      <th>rev</th>\n",
       "      <th>rev_lag1</th>\n",
       "      <th>rev_lag2</th>\n",
       "      <th>monthly_4</th>\n",
       "      <th>time</th>\n",
       "    </tr>\n",
       "    <tr>\n",
       "      <th>req_index</th>\n",
       "      <th></th>\n",
       "      <th></th>\n",
       "      <th></th>\n",
       "      <th></th>\n",
       "      <th></th>\n",
       "    </tr>\n",
       "  </thead>\n",
       "  <tbody>\n",
       "    <tr>\n",
       "      <th>2022-01-09</th>\n",
       "      <td>16.237668</td>\n",
       "      <td>NaN</td>\n",
       "      <td>NaN</td>\n",
       "      <td>NaN</td>\n",
       "      <td>0</td>\n",
       "    </tr>\n",
       "    <tr>\n",
       "      <th>2022-01-16</th>\n",
       "      <td>16.737110</td>\n",
       "      <td>16.237668</td>\n",
       "      <td>NaN</td>\n",
       "      <td>NaN</td>\n",
       "      <td>1</td>\n",
       "    </tr>\n",
       "    <tr>\n",
       "      <th>2022-01-23</th>\n",
       "      <td>16.012501</td>\n",
       "      <td>16.737110</td>\n",
       "      <td>16.237668</td>\n",
       "      <td>NaN</td>\n",
       "      <td>2</td>\n",
       "    </tr>\n",
       "    <tr>\n",
       "      <th>2022-01-30</th>\n",
       "      <td>17.151339</td>\n",
       "      <td>16.012501</td>\n",
       "      <td>16.737110</td>\n",
       "      <td>NaN</td>\n",
       "      <td>3</td>\n",
       "    </tr>\n",
       "    <tr>\n",
       "      <th>2022-02-06</th>\n",
       "      <td>17.283332</td>\n",
       "      <td>17.151339</td>\n",
       "      <td>16.012501</td>\n",
       "      <td>16.237668</td>\n",
       "      <td>4</td>\n",
       "    </tr>\n",
       "  </tbody>\n",
       "</table>\n",
       "</div>"
      ],
      "text/plain": [
       "                  rev   rev_lag1   rev_lag2  monthly_4  time\n",
       "req_index                                                   \n",
       "2022-01-09  16.237668        NaN        NaN        NaN     0\n",
       "2022-01-16  16.737110  16.237668        NaN        NaN     1\n",
       "2022-01-23  16.012501  16.737110  16.237668        NaN     2\n",
       "2022-01-30  17.151339  16.012501  16.737110        NaN     3\n",
       "2022-02-06  17.283332  17.151339  16.012501  16.237668     4"
      ]
     },
     "execution_count": 51,
     "metadata": {},
     "output_type": "execute_result"
    }
   ],
   "source": [
    "#Setting up for linear weekly predictions\n",
    "\n",
    "week['rev'] = by_week['tips_driver_pay']\n",
    "week['rev_lag1'] = by_week['tips_driver_pay'].shift(1)\n",
    "week['rev_lag2'] = by_week['tips_driver_pay'].shift(2)\n",
    "week['monthly_4'] = by_week['tips_driver_pay'].shift(4)\n",
    "week['time'] = range(0, week.shape[0])\n",
    "\n",
    "week.head()"
   ]
  },
  {
   "cell_type": "code",
   "execution_count": 52,
   "id": "c4a339f3-4992-4150-bbaa-cea7cce366f0",
   "metadata": {},
   "outputs": [
    {
     "data": {
      "text/html": [
       "<div>\n",
       "<style scoped>\n",
       "    .dataframe tbody tr th:only-of-type {\n",
       "        vertical-align: middle;\n",
       "    }\n",
       "\n",
       "    .dataframe tbody tr th {\n",
       "        vertical-align: top;\n",
       "    }\n",
       "\n",
       "    .dataframe thead th {\n",
       "        text-align: right;\n",
       "    }\n",
       "</style>\n",
       "<table border=\"1\" class=\"dataframe\">\n",
       "  <thead>\n",
       "    <tr style=\"text-align: right;\">\n",
       "      <th></th>\n",
       "      <th>rev</th>\n",
       "      <th>rev_lag1</th>\n",
       "      <th>rev_lag2</th>\n",
       "      <th>monthly_4</th>\n",
       "      <th>time</th>\n",
       "    </tr>\n",
       "    <tr>\n",
       "      <th>req_index</th>\n",
       "      <th></th>\n",
       "      <th></th>\n",
       "      <th></th>\n",
       "      <th></th>\n",
       "      <th></th>\n",
       "    </tr>\n",
       "  </thead>\n",
       "  <tbody>\n",
       "    <tr>\n",
       "      <th>2022-12-04</th>\n",
       "      <td>19.038817</td>\n",
       "      <td>17.554353</td>\n",
       "      <td>19.905847</td>\n",
       "      <td>19.445485</td>\n",
       "      <td>47</td>\n",
       "    </tr>\n",
       "    <tr>\n",
       "      <th>2022-12-11</th>\n",
       "      <td>21.921971</td>\n",
       "      <td>19.038817</td>\n",
       "      <td>17.554353</td>\n",
       "      <td>21.277740</td>\n",
       "      <td>48</td>\n",
       "    </tr>\n",
       "    <tr>\n",
       "      <th>2022-12-18</th>\n",
       "      <td>22.419208</td>\n",
       "      <td>21.921971</td>\n",
       "      <td>19.038817</td>\n",
       "      <td>19.905847</td>\n",
       "      <td>49</td>\n",
       "    </tr>\n",
       "    <tr>\n",
       "      <th>2022-12-25</th>\n",
       "      <td>19.893607</td>\n",
       "      <td>22.419208</td>\n",
       "      <td>21.921971</td>\n",
       "      <td>17.554353</td>\n",
       "      <td>50</td>\n",
       "    </tr>\n",
       "    <tr>\n",
       "      <th>2023-01-01</th>\n",
       "      <td>18.938749</td>\n",
       "      <td>19.893607</td>\n",
       "      <td>22.419208</td>\n",
       "      <td>19.038817</td>\n",
       "      <td>51</td>\n",
       "    </tr>\n",
       "  </tbody>\n",
       "</table>\n",
       "</div>"
      ],
      "text/plain": [
       "                  rev   rev_lag1   rev_lag2  monthly_4  time\n",
       "req_index                                                   \n",
       "2022-12-04  19.038817  17.554353  19.905847  19.445485    47\n",
       "2022-12-11  21.921971  19.038817  17.554353  21.277740    48\n",
       "2022-12-18  22.419208  21.921971  19.038817  19.905847    49\n",
       "2022-12-25  19.893607  22.419208  21.921971  17.554353    50\n",
       "2023-01-01  18.938749  19.893607  22.419208  19.038817    51"
      ]
     },
     "execution_count": 52,
     "metadata": {},
     "output_type": "execute_result"
    }
   ],
   "source": [
    "week.tail()"
   ]
  },
  {
   "cell_type": "code",
   "execution_count": null,
   "id": "d01c6cc9-a588-470d-95a7-7218d572d0fd",
   "metadata": {},
   "outputs": [],
   "source": []
  },
  {
   "cell_type": "code",
   "execution_count": 54,
   "id": "517a9c59-37e8-4c17-9885-33f9b9f8a4a6",
   "metadata": {},
   "outputs": [],
   "source": [
    "# Generate train/test split\n",
    "X_train, X_test, y_train, y_test = train_test_split(week.dropna().drop(columns = 'rev'),\n",
    "                                                    week.dropna()['rev'],\n",
    "                                                    test_size = 0.2,\n",
    "                                                    shuffle = False)\n"
   ]
  },
  {
   "cell_type": "code",
   "execution_count": 55,
   "id": "45de7b7a-dd21-43f5-b593-358d09c80365",
   "metadata": {},
   "outputs": [
    {
     "name": "stdout",
     "output_type": "stream",
     "text": [
      "(35, 4)\n",
      "(9, 4)\n",
      "(35,)\n",
      "(9,)\n"
     ]
    }
   ],
   "source": [
    "# Check shape to confirm did this properly\n",
    "print(X_train.shape)\n",
    "print(X_test.shape)\n",
    "print(y_train.shape)\n",
    "print(y_test.shape)"
   ]
  },
  {
   "cell_type": "code",
   "execution_count": 56,
   "id": "2527744d-aabb-4292-adff-848dc1d70715",
   "metadata": {
    "scrolled": true
   },
   "outputs": [
    {
     "data": {
      "text/html": [
       "<div>\n",
       "<style scoped>\n",
       "    .dataframe tbody tr th:only-of-type {\n",
       "        vertical-align: middle;\n",
       "    }\n",
       "\n",
       "    .dataframe tbody tr th {\n",
       "        vertical-align: top;\n",
       "    }\n",
       "\n",
       "    .dataframe thead th {\n",
       "        text-align: right;\n",
       "    }\n",
       "</style>\n",
       "<table border=\"1\" class=\"dataframe\">\n",
       "  <thead>\n",
       "    <tr style=\"text-align: right;\">\n",
       "      <th></th>\n",
       "      <th>const</th>\n",
       "      <th>rev_lag1</th>\n",
       "      <th>rev_lag2</th>\n",
       "      <th>monthly_4</th>\n",
       "      <th>time</th>\n",
       "    </tr>\n",
       "    <tr>\n",
       "      <th>req_index</th>\n",
       "      <th></th>\n",
       "      <th></th>\n",
       "      <th></th>\n",
       "      <th></th>\n",
       "      <th></th>\n",
       "    </tr>\n",
       "  </thead>\n",
       "  <tbody>\n",
       "    <tr>\n",
       "      <th>2022-02-06</th>\n",
       "      <td>1.0</td>\n",
       "      <td>17.151339</td>\n",
       "      <td>16.012501</td>\n",
       "      <td>16.237668</td>\n",
       "      <td>4</td>\n",
       "    </tr>\n",
       "    <tr>\n",
       "      <th>2022-02-13</th>\n",
       "      <td>1.0</td>\n",
       "      <td>17.283332</td>\n",
       "      <td>17.151339</td>\n",
       "      <td>16.737110</td>\n",
       "      <td>5</td>\n",
       "    </tr>\n",
       "    <tr>\n",
       "      <th>2022-02-20</th>\n",
       "      <td>1.0</td>\n",
       "      <td>19.011998</td>\n",
       "      <td>17.283332</td>\n",
       "      <td>16.012501</td>\n",
       "      <td>6</td>\n",
       "    </tr>\n",
       "    <tr>\n",
       "      <th>2022-02-27</th>\n",
       "      <td>1.0</td>\n",
       "      <td>16.940486</td>\n",
       "      <td>19.011998</td>\n",
       "      <td>17.151339</td>\n",
       "      <td>7</td>\n",
       "    </tr>\n",
       "    <tr>\n",
       "      <th>2022-03-06</th>\n",
       "      <td>1.0</td>\n",
       "      <td>17.577946</td>\n",
       "      <td>16.940486</td>\n",
       "      <td>17.283332</td>\n",
       "      <td>8</td>\n",
       "    </tr>\n",
       "  </tbody>\n",
       "</table>\n",
       "</div>"
      ],
      "text/plain": [
       "            const   rev_lag1   rev_lag2  monthly_4  time\n",
       "req_index                                               \n",
       "2022-02-06    1.0  17.151339  16.012501  16.237668     4\n",
       "2022-02-13    1.0  17.283332  17.151339  16.737110     5\n",
       "2022-02-20    1.0  19.011998  17.283332  16.012501     6\n",
       "2022-02-27    1.0  16.940486  19.011998  17.151339     7\n",
       "2022-03-06    1.0  17.577946  16.940486  17.283332     8"
      ]
     },
     "execution_count": 56,
     "metadata": {},
     "output_type": "execute_result"
    }
   ],
   "source": [
    "#Adding an intercept\n",
    "\n",
    "X_train = sm.add_constant(X_train)\n",
    "X_test = sm.add_constant(X_test)\n",
    "\n",
    "# Confirm.\n",
    "X_train.head()"
   ]
  },
  {
   "cell_type": "code",
   "execution_count": 57,
   "id": "52861169-d42c-4123-b258-abbf440d5fea",
   "metadata": {},
   "outputs": [],
   "source": [
    "#Instantiating and passing in model/data\n",
    "lm = sm.OLS(y_train, X_train)\n",
    "\n",
    "# Fitting the model\n",
    "lm_result = lm.fit()"
   ]
  },
  {
   "cell_type": "code",
   "execution_count": 58,
   "id": "3f02bbc9-15d9-4df3-8a5d-978c06bd48ea",
   "metadata": {},
   "outputs": [
    {
     "name": "stdout",
     "output_type": "stream",
     "text": [
      "                            OLS Regression Results                            \n",
      "==============================================================================\n",
      "Dep. Variable:                    rev   R-squared:                       0.416\n",
      "Model:                            OLS   Adj. R-squared:                  0.339\n",
      "Method:                 Least Squares   F-statistic:                     5.350\n",
      "Date:                Tue, 09 Apr 2024   Prob (F-statistic):            0.00225\n",
      "Time:                        14:38:01   Log-Likelihood:                -51.717\n",
      "No. Observations:                  35   AIC:                             113.4\n",
      "Df Residuals:                      30   BIC:                             121.2\n",
      "Df Model:                           4                                         \n",
      "Covariance Type:            nonrobust                                         \n",
      "==============================================================================\n",
      "                 coef    std err          t      P>|t|      [0.025      0.975]\n",
      "------------------------------------------------------------------------------\n",
      "const          9.3928      3.610      2.602      0.014       2.020      16.765\n",
      "rev_lag1       0.1817      0.194      0.937      0.356      -0.214       0.578\n",
      "rev_lag2       0.2144      0.170      1.263      0.216      -0.132       0.561\n",
      "monthly_4      0.1084      0.181      0.599      0.554      -0.261       0.478\n",
      "time           0.0257      0.026      1.000      0.325      -0.027       0.078\n",
      "==============================================================================\n",
      "Omnibus:                        6.533   Durbin-Watson:                   2.044\n",
      "Prob(Omnibus):                  0.038   Jarque-Bera (JB):                5.041\n",
      "Skew:                           0.856   Prob(JB):                       0.0804\n",
      "Kurtosis:                       3.725   Cond. No.                         761.\n",
      "==============================================================================\n",
      "\n",
      "Notes:\n",
      "[1] Standard Errors assume that the covariance matrix of the errors is correctly specified.\n"
     ]
    }
   ],
   "source": [
    "#Taking a look at the summary\n",
    "print(lm_result.summary())"
   ]
  },
  {
   "cell_type": "code",
   "execution_count": 61,
   "id": "91431e3f-b951-46c0-9dc9-4e2837252cc9",
   "metadata": {},
   "outputs": [
    {
     "data": {
      "text/plain": [
       "req_index\n",
       "2022-11-06    21.663979\n",
       "2022-11-13    21.153427\n",
       "2022-11-20    20.909733\n",
       "2022-11-27    21.213718\n",
       "2022-12-04    20.165120\n",
       "2022-12-11    20.154984\n",
       "2022-12-18    20.874038\n",
       "2022-12-25    21.353285\n",
       "2023-01-01    21.187639\n",
       "dtype: float64"
      ]
     },
     "execution_count": 61,
     "metadata": {},
     "output_type": "execute_result"
    }
   ],
   "source": [
    "#Making predictions\n",
    "lm_result.predict(X_test)"
   ]
  },
  {
   "cell_type": "code",
   "execution_count": 63,
   "id": "0237e717-f986-400a-8d89-fce9e4949ec7",
   "metadata": {},
   "outputs": [
    {
     "data": {
      "text/plain": [
       "-0.7060023593442912"
      ]
     },
     "execution_count": 63,
     "metadata": {},
     "output_type": "execute_result"
    }
   ],
   "source": [
    "#Calculating r2 score\n",
    "r2_score(y_test, lm_result.predict(X_test))"
   ]
  },
  {
   "cell_type": "code",
   "execution_count": 65,
   "id": "e3afcdec-46ff-4072-8730-75ddfa30bf5e",
   "metadata": {},
   "outputs": [
    {
     "data": {
      "text/plain": [
       "1.9236085529332185"
      ]
     },
     "execution_count": 65,
     "metadata": {},
     "output_type": "execute_result"
    }
   ],
   "source": [
    "# Calculating RMSE\n",
    "mean_squared_error(y_test, lm_result.predict(X_test)) ** 0.5"
   ]
  },
  {
   "cell_type": "code",
   "execution_count": 66,
   "id": "6aa8eaf7-aa85-4634-861e-1f125161d5f4",
   "metadata": {},
   "outputs": [
    {
     "data": {
      "text/plain": [
       "Text(0.5, 1.0, 'Forecasting Weekly Average Driver Revenue Per Trip')"
      ]
     },
     "execution_count": 66,
     "metadata": {},
     "output_type": "execute_result"
    },
    {
     "data": {
      "image/png": "[encoded data removed]",
      "text/plain": [
       "<Figure size 1500x1000 with 1 Axes>"
      ]
     },
     "metadata": {},
     "output_type": "display_data"
    }
   ],
   "source": [
    "#Plotting Weekly Predictions\n",
    "\n",
    "plt.figure(figsize=(15, 10))\n",
    "\n",
    "#Plotting training data\n",
    "plt.plot(y_train.index, y_train.values, color = 'purple')\n",
    "\n",
    "# Plotting testing data\n",
    "plt.plot(y_test.index, y_test.values, color = 'orange')\n",
    "\n",
    "# Plotting predicted test values\n",
    "plt.plot(lm_result.predict(X_test), color = 'green')\n",
    "\n",
    "#Creating the title\n",
    "plt.title('Forecasting Weekly Average Driver Revenue Per Trip')\n",
    "\n"
   ]
  },
  {
   "cell_type": "code",
   "execution_count": 67,
   "id": "c8ed6523-5f14-4e0d-8120-4f7da48c2378",
   "metadata": {},
   "outputs": [
    {
     "data": {
      "text/html": [
       "<div>\n",
       "<style scoped>\n",
       "    .dataframe tbody tr th:only-of-type {\n",
       "        vertical-align: middle;\n",
       "    }\n",
       "\n",
       "    .dataframe tbody tr th {\n",
       "        vertical-align: top;\n",
       "    }\n",
       "\n",
       "    .dataframe thead th {\n",
       "        text-align: right;\n",
       "    }\n",
       "</style>\n",
       "<table border=\"1\" class=\"dataframe\">\n",
       "  <thead>\n",
       "    <tr style=\"text-align: right;\">\n",
       "      <th></th>\n",
       "      <th>rev</th>\n",
       "      <th>rev_lag1</th>\n",
       "      <th>rev_lag2</th>\n",
       "      <th>monthly_4</th>\n",
       "      <th>time</th>\n",
       "    </tr>\n",
       "    <tr>\n",
       "      <th>req_index</th>\n",
       "      <th></th>\n",
       "      <th></th>\n",
       "      <th></th>\n",
       "      <th></th>\n",
       "      <th></th>\n",
       "    </tr>\n",
       "  </thead>\n",
       "  <tbody>\n",
       "    <tr>\n",
       "      <th>2022-01-04</th>\n",
       "      <td>16.947475</td>\n",
       "      <td>NaN</td>\n",
       "      <td>NaN</td>\n",
       "      <td>NaN</td>\n",
       "      <td>0</td>\n",
       "    </tr>\n",
       "    <tr>\n",
       "      <th>2022-01-05</th>\n",
       "      <td>NaN</td>\n",
       "      <td>16.947475</td>\n",
       "      <td>NaN</td>\n",
       "      <td>NaN</td>\n",
       "      <td>1</td>\n",
       "    </tr>\n",
       "    <tr>\n",
       "      <th>2022-01-06</th>\n",
       "      <td>16.562685</td>\n",
       "      <td>NaN</td>\n",
       "      <td>16.947475</td>\n",
       "      <td>NaN</td>\n",
       "      <td>2</td>\n",
       "    </tr>\n",
       "    <tr>\n",
       "      <th>2022-01-07</th>\n",
       "      <td>NaN</td>\n",
       "      <td>16.562685</td>\n",
       "      <td>NaN</td>\n",
       "      <td>NaN</td>\n",
       "      <td>3</td>\n",
       "    </tr>\n",
       "    <tr>\n",
       "      <th>2022-01-08</th>\n",
       "      <td>15.202156</td>\n",
       "      <td>NaN</td>\n",
       "      <td>16.562685</td>\n",
       "      <td>NaN</td>\n",
       "      <td>4</td>\n",
       "    </tr>\n",
       "  </tbody>\n",
       "</table>\n",
       "</div>"
      ],
      "text/plain": [
       "                  rev   rev_lag1   rev_lag2  monthly_4  time\n",
       "req_index                                                   \n",
       "2022-01-04  16.947475        NaN        NaN        NaN     0\n",
       "2022-01-05        NaN  16.947475        NaN        NaN     1\n",
       "2022-01-06  16.562685        NaN  16.947475        NaN     2\n",
       "2022-01-07        NaN  16.562685        NaN        NaN     3\n",
       "2022-01-08  15.202156        NaN  16.562685        NaN     4"
      ]
     },
     "execution_count": 67,
     "metadata": {},
     "output_type": "execute_result"
    }
   ],
   "source": [
    "#Setting up for linear weekly predictions\n",
    "\n",
    "day['rev'] = by_day['tips_driver_pay']\n",
    "day['rev_lag1'] = by_day['tips_driver_pay'].shift(1)\n",
    "day['rev_lag2'] = by_day['tips_driver_pay'].shift(2)\n",
    "day['monthly_4'] = by_day['tips_driver_pay'].shift(7)\n",
    "day['time'] = range(0, day.shape[0])\n",
    "\n",
    "day.head()"
   ]
  },
  {
   "cell_type": "code",
   "execution_count": 68,
   "id": "865768f8-19a2-4949-b645-c223e9c9ff6c",
   "metadata": {},
   "outputs": [
    {
     "data": {
      "text/html": [
       "<div>\n",
       "<style scoped>\n",
       "    .dataframe tbody tr th:only-of-type {\n",
       "        vertical-align: middle;\n",
       "    }\n",
       "\n",
       "    .dataframe tbody tr th {\n",
       "        vertical-align: top;\n",
       "    }\n",
       "\n",
       "    .dataframe thead th {\n",
       "        text-align: right;\n",
       "    }\n",
       "</style>\n",
       "<table border=\"1\" class=\"dataframe\">\n",
       "  <thead>\n",
       "    <tr style=\"text-align: right;\">\n",
       "      <th></th>\n",
       "      <th>rev</th>\n",
       "      <th>rev_lag1</th>\n",
       "      <th>rev_lag2</th>\n",
       "      <th>monthly_4</th>\n",
       "      <th>time</th>\n",
       "    </tr>\n",
       "    <tr>\n",
       "      <th>req_index</th>\n",
       "      <th></th>\n",
       "      <th></th>\n",
       "      <th></th>\n",
       "      <th></th>\n",
       "      <th></th>\n",
       "    </tr>\n",
       "  </thead>\n",
       "  <tbody>\n",
       "    <tr>\n",
       "      <th>2022-12-27</th>\n",
       "      <td>18.339457</td>\n",
       "      <td>NaN</td>\n",
       "      <td>17.712602</td>\n",
       "      <td>20.560105</td>\n",
       "      <td>357</td>\n",
       "    </tr>\n",
       "    <tr>\n",
       "      <th>2022-12-28</th>\n",
       "      <td>NaN</td>\n",
       "      <td>18.339457</td>\n",
       "      <td>NaN</td>\n",
       "      <td>NaN</td>\n",
       "      <td>358</td>\n",
       "    </tr>\n",
       "    <tr>\n",
       "      <th>2022-12-29</th>\n",
       "      <td>19.013563</td>\n",
       "      <td>NaN</td>\n",
       "      <td>18.339457</td>\n",
       "      <td>24.136857</td>\n",
       "      <td>359</td>\n",
       "    </tr>\n",
       "    <tr>\n",
       "      <th>2022-12-30</th>\n",
       "      <td>NaN</td>\n",
       "      <td>19.013563</td>\n",
       "      <td>NaN</td>\n",
       "      <td>17.159573</td>\n",
       "      <td>360</td>\n",
       "    </tr>\n",
       "    <tr>\n",
       "      <th>2022-12-31</th>\n",
       "      <td>19.462549</td>\n",
       "      <td>NaN</td>\n",
       "      <td>19.013563</td>\n",
       "      <td>NaN</td>\n",
       "      <td>361</td>\n",
       "    </tr>\n",
       "  </tbody>\n",
       "</table>\n",
       "</div>"
      ],
      "text/plain": [
       "                  rev   rev_lag1   rev_lag2  monthly_4  time\n",
       "req_index                                                   \n",
       "2022-12-27  18.339457        NaN  17.712602  20.560105   357\n",
       "2022-12-28        NaN  18.339457        NaN        NaN   358\n",
       "2022-12-29  19.013563        NaN  18.339457  24.136857   359\n",
       "2022-12-30        NaN  19.013563        NaN  17.159573   360\n",
       "2022-12-31  19.462549        NaN  19.013563        NaN   361"
      ]
     },
     "execution_count": 68,
     "metadata": {},
     "output_type": "execute_result"
    }
   ],
   "source": [
    "day.tail()"
   ]
  },
  {
   "cell_type": "code",
   "execution_count": 69,
   "id": "d253b09a-2755-4440-bd77-94264bd98ba2",
   "metadata": {},
   "outputs": [
    {
     "name": "stdout",
     "output_type": "stream",
     "text": [
      "(5, 4)\n",
      "(2, 4)\n",
      "(5,)\n",
      "(2,)\n"
     ]
    }
   ],
   "source": [
    "# Generate train/test split\n",
    "X_train, X_test, y_train, y_test = train_test_split(day.fillna().drop(columns = 'rev'),\n",
    "                                                    day.dropna()['rev'],\n",
    "                                                    test_size = 0.2,\n",
    "                                                    shuffle = False)\n",
    "\n",
    "\n",
    "# Check shape to confirm did this properly\n",
    "print(X_train.shape)\n",
    "print(X_test.shape)\n",
    "print(y_train.shape)\n",
    "print(y_test.shape)"
   ]
  },
  {
   "cell_type": "code",
   "execution_count": 70,
   "id": "7e238587-435b-4935-abf5-f6ea1feaadcd",
   "metadata": {},
   "outputs": [
    {
     "data": {
      "text/html": [
       "<div>\n",
       "<style scoped>\n",
       "    .dataframe tbody tr th:only-of-type {\n",
       "        vertical-align: middle;\n",
       "    }\n",
       "\n",
       "    .dataframe tbody tr th {\n",
       "        vertical-align: top;\n",
       "    }\n",
       "\n",
       "    .dataframe thead th {\n",
       "        text-align: right;\n",
       "    }\n",
       "</style>\n",
       "<table border=\"1\" class=\"dataframe\">\n",
       "  <thead>\n",
       "    <tr style=\"text-align: right;\">\n",
       "      <th></th>\n",
       "      <th>const</th>\n",
       "      <th>rev_lag1</th>\n",
       "      <th>rev_lag2</th>\n",
       "      <th>monthly_4</th>\n",
       "      <th>time</th>\n",
       "    </tr>\n",
       "    <tr>\n",
       "      <th>req_index</th>\n",
       "      <th></th>\n",
       "      <th></th>\n",
       "      <th></th>\n",
       "      <th></th>\n",
       "      <th></th>\n",
       "    </tr>\n",
       "  </thead>\n",
       "  <tbody>\n",
       "    <tr>\n",
       "      <th>2022-02-06</th>\n",
       "      <td>1.0</td>\n",
       "      <td>18.250065</td>\n",
       "      <td>17.865497</td>\n",
       "      <td>17.206103</td>\n",
       "      <td>33</td>\n",
       "    </tr>\n",
       "    <tr>\n",
       "      <th>2022-04-05</th>\n",
       "      <td>1.0</td>\n",
       "      <td>19.035280</td>\n",
       "      <td>19.241920</td>\n",
       "      <td>18.557949</td>\n",
       "      <td>91</td>\n",
       "    </tr>\n",
       "    <tr>\n",
       "      <th>2022-10-31</th>\n",
       "      <td>1.0</td>\n",
       "      <td>22.161496</td>\n",
       "      <td>22.246776</td>\n",
       "      <td>23.200478</td>\n",
       "      <td>300</td>\n",
       "    </tr>\n",
       "    <tr>\n",
       "      <th>2022-11-14</th>\n",
       "      <td>1.0</td>\n",
       "      <td>18.219533</td>\n",
       "      <td>20.070618</td>\n",
       "      <td>21.959846</td>\n",
       "      <td>314</td>\n",
       "    </tr>\n",
       "    <tr>\n",
       "      <th>2022-11-21</th>\n",
       "      <td>1.0</td>\n",
       "      <td>18.247918</td>\n",
       "      <td>19.950886</td>\n",
       "      <td>18.246309</td>\n",
       "      <td>321</td>\n",
       "    </tr>\n",
       "  </tbody>\n",
       "</table>\n",
       "</div>"
      ],
      "text/plain": [
       "            const   rev_lag1   rev_lag2  monthly_4  time\n",
       "req_index                                               \n",
       "2022-02-06    1.0  18.250065  17.865497  17.206103    33\n",
       "2022-04-05    1.0  19.035280  19.241920  18.557949    91\n",
       "2022-10-31    1.0  22.161496  22.246776  23.200478   300\n",
       "2022-11-14    1.0  18.219533  20.070618  21.959846   314\n",
       "2022-11-21    1.0  18.247918  19.950886  18.246309   321"
      ]
     },
     "execution_count": 70,
     "metadata": {},
     "output_type": "execute_result"
    }
   ],
   "source": [
    "#Adding an intercept\n",
    "\n",
    "X_train = sm.add_constant(X_train)\n",
    "X_test = sm.add_constant(X_test)\n",
    "\n",
    "# Confirm.\n",
    "X_train.head()"
   ]
  },
  {
   "cell_type": "code",
   "execution_count": 71,
   "id": "24f6f114-a1cb-481c-b659-ed426e9f97e0",
   "metadata": {},
   "outputs": [
    {
     "data": {
      "text/html": [
       "<div>\n",
       "<style scoped>\n",
       "    .dataframe tbody tr th:only-of-type {\n",
       "        vertical-align: middle;\n",
       "    }\n",
       "\n",
       "    .dataframe tbody tr th {\n",
       "        vertical-align: top;\n",
       "    }\n",
       "\n",
       "    .dataframe thead th {\n",
       "        text-align: right;\n",
       "    }\n",
       "</style>\n",
       "<table border=\"1\" class=\"dataframe\">\n",
       "  <thead>\n",
       "    <tr style=\"text-align: right;\">\n",
       "      <th></th>\n",
       "      <th>const</th>\n",
       "      <th>rev_lag1</th>\n",
       "      <th>rev_lag2</th>\n",
       "      <th>monthly_4</th>\n",
       "      <th>time</th>\n",
       "    </tr>\n",
       "    <tr>\n",
       "      <th>req_index</th>\n",
       "      <th></th>\n",
       "      <th></th>\n",
       "      <th></th>\n",
       "      <th></th>\n",
       "      <th></th>\n",
       "    </tr>\n",
       "  </thead>\n",
       "  <tbody>\n",
       "    <tr>\n",
       "      <th>2022-02-06</th>\n",
       "      <td>1.0</td>\n",
       "      <td>18.250065</td>\n",
       "      <td>17.865497</td>\n",
       "      <td>17.206103</td>\n",
       "      <td>33</td>\n",
       "    </tr>\n",
       "    <tr>\n",
       "      <th>2022-04-05</th>\n",
       "      <td>1.0</td>\n",
       "      <td>19.035280</td>\n",
       "      <td>19.241920</td>\n",
       "      <td>18.557949</td>\n",
       "      <td>91</td>\n",
       "    </tr>\n",
       "    <tr>\n",
       "      <th>2022-10-31</th>\n",
       "      <td>1.0</td>\n",
       "      <td>22.161496</td>\n",
       "      <td>22.246776</td>\n",
       "      <td>23.200478</td>\n",
       "      <td>300</td>\n",
       "    </tr>\n",
       "    <tr>\n",
       "      <th>2022-11-14</th>\n",
       "      <td>1.0</td>\n",
       "      <td>18.219533</td>\n",
       "      <td>20.070618</td>\n",
       "      <td>21.959846</td>\n",
       "      <td>314</td>\n",
       "    </tr>\n",
       "    <tr>\n",
       "      <th>2022-11-21</th>\n",
       "      <td>1.0</td>\n",
       "      <td>18.247918</td>\n",
       "      <td>19.950886</td>\n",
       "      <td>18.246309</td>\n",
       "      <td>321</td>\n",
       "    </tr>\n",
       "  </tbody>\n",
       "</table>\n",
       "</div>"
      ],
      "text/plain": [
       "            const   rev_lag1   rev_lag2  monthly_4  time\n",
       "req_index                                               \n",
       "2022-02-06    1.0  18.250065  17.865497  17.206103    33\n",
       "2022-04-05    1.0  19.035280  19.241920  18.557949    91\n",
       "2022-10-31    1.0  22.161496  22.246776  23.200478   300\n",
       "2022-11-14    1.0  18.219533  20.070618  21.959846   314\n",
       "2022-11-21    1.0  18.247918  19.950886  18.246309   321"
      ]
     },
     "execution_count": 71,
     "metadata": {},
     "output_type": "execute_result"
    }
   ],
   "source": [
    "# Dropping NAs so I can pass data through stats model, ensuring y_train only keeps indexes from X_train\n",
    "\n",
    "X_train.dropna(inplace=True)\n",
    "y_train = y_train[X_train.index]\n",
    "\n",
    "X_train.head()"
   ]
  },
  {
   "cell_type": "code",
   "execution_count": 72,
   "id": "914f557d-15df-44d0-835d-027248d3f2a5",
   "metadata": {},
   "outputs": [],
   "source": [
    "#Instantiating and passing in model/data\n",
    "lm_day = sm.OLS(y_train, X_train)\n",
    "\n",
    "# Fitting the model\n",
    "lm_day_result = lm_day.fit()"
   ]
  },
  {
   "cell_type": "code",
   "execution_count": 73,
   "id": "e6dee613-2775-4fff-99f8-17dd92263a3b",
   "metadata": {},
   "outputs": [
    {
     "name": "stdout",
     "output_type": "stream",
     "text": [
      "                            OLS Regression Results                            \n",
      "==============================================================================\n",
      "Dep. Variable:                    rev   R-squared:                       1.000\n",
      "Model:                            OLS   Adj. R-squared:                    nan\n",
      "Method:                 Least Squares   F-statistic:                       nan\n",
      "Date:                Tue, 09 Apr 2024   Prob (F-statistic):                nan\n",
      "Time:                        15:27:52   Log-Likelihood:                 141.30\n",
      "No. Observations:                   5   AIC:                            -272.6\n",
      "Df Residuals:                       0   BIC:                            -274.6\n",
      "Df Model:                           4                                         \n",
      "Covariance Type:            nonrobust                                         \n",
      "==============================================================================\n",
      "                 coef    std err          t      P>|t|      [0.025      0.975]\n",
      "------------------------------------------------------------------------------\n",
      "const         -4.4854        inf         -0        nan         nan         nan\n",
      "rev_lag1      -1.7798        inf         -0        nan         nan         nan\n",
      "rev_lag2       2.6696        inf          0        nan         nan         nan\n",
      "monthly_4      0.3885        inf          0        nan         nan         nan\n",
      "time          -0.0221        inf         -0        nan         nan         nan\n",
      "==============================================================================\n",
      "Omnibus:                          nan   Durbin-Watson:                   0.075\n",
      "Prob(Omnibus):                    nan   Jarque-Bera (JB):                0.535\n",
      "Skew:                          -0.068   Prob(JB):                        0.765\n",
      "Kurtosis:                       1.403   Cond. No.                     1.08e+04\n",
      "==============================================================================\n",
      "\n",
      "Notes:\n",
      "[1] Standard Errors assume that the covariance matrix of the errors is correctly specified.\n",
      "[2] The condition number is large, 1.08e+04. This might indicate that there are\n",
      "strong multicollinearity or other numerical problems.\n"
     ]
    },
    {
     "name": "stderr",
     "output_type": "stream",
     "text": [
      "/Users/dillondiatlo/anaconda3/lib/python3.11/site-packages/statsmodels/stats/stattools.py:74: ValueWarning: omni_normtest is not valid with less than 8 observations; 5 samples were given.\n",
      "  warn(\"omni_normtest is not valid with less than 8 observations; %i \"\n",
      "/Users/dillondiatlo/anaconda3/lib/python3.11/site-packages/statsmodels/regression/linear_model.py:1794: RuntimeWarning: divide by zero encountered in divide\n",
      "  return 1 - (np.divide(self.nobs - self.k_constant, self.df_resid)\n",
      "/Users/dillondiatlo/anaconda3/lib/python3.11/site-packages/statsmodels/regression/linear_model.py:1794: RuntimeWarning: invalid value encountered in scalar multiply\n",
      "  return 1 - (np.divide(self.nobs - self.k_constant, self.df_resid)\n",
      "/Users/dillondiatlo/anaconda3/lib/python3.11/site-packages/statsmodels/regression/linear_model.py:1716: RuntimeWarning: divide by zero encountered in scalar divide\n",
      "  return np.dot(wresid, wresid) / self.df_resid\n"
     ]
    }
   ],
   "source": [
    "#Taking a look at the summary\n",
    "print(lm_day_result.summary())"
   ]
  },
  {
   "cell_type": "code",
   "execution_count": null,
   "id": "ed30d77d-a56c-45d1-a976-caeef9206868",
   "metadata": {},
   "outputs": [],
   "source": []
  },
  {
   "cell_type": "code",
   "execution_count": null,
   "id": "c7a9f0cd-3a86-4db5-a985-764bf1dd7022",
   "metadata": {},
   "outputs": [],
   "source": []
  }
 ],
 "metadata": {
  "kernelspec": {
   "display_name": "Python 3 (ipykernel)",
   "language": "python",
   "name": "python3"
  },
  "language_info": {
   "codemirror_mode": {
    "name": "ipython",
    "version": 3
   },
   "file_extension": ".py",
   "mimetype": "text/x-python",
   "name": "python",
   "nbconvert_exporter": "python",
   "pygments_lexer": "ipython3",
   "version": "3.11.5"
  }
 },
 "nbformat": 4,
 "nbformat_minor": 5
}
