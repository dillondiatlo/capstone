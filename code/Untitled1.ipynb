{
 "cells": [
  {
   "cell_type": "code",
   "execution_count": 1,
   "id": "8bed36ed-bcaf-40de-850d-76714ed91c2b",
   "metadata": {},
   "outputs": [],
   "source": [
    "import pandas as pd\n",
    "import numpy as np\n",
    "import matplotlib.pyplot as plt"
   ]
  },
  {
   "cell_type": "code",
   "execution_count": 19,
   "id": "de81ebb1-09c0-43d9-8ecd-727848493619",
   "metadata": {},
   "outputs": [],
   "source": [
    "df = pd.read_csv('../data/2022_High_Volume_FHV_Trip_Records_20240409.csv')"
   ]
  },
  {
   "cell_type": "code",
   "execution_count": 24,
   "id": "a9a9eeca-0f10-44a2-9ee7-2df4bac1a29f",
   "metadata": {},
   "outputs": [
    {
     "data": {
      "text/html": [
       "<div>\n",
       "<style scoped>\n",
       "    .dataframe tbody tr th:only-of-type {\n",
       "        vertical-align: middle;\n",
       "    }\n",
       "\n",
       "    .dataframe tbody tr th {\n",
       "        vertical-align: top;\n",
       "    }\n",
       "\n",
       "    .dataframe thead th {\n",
       "        text-align: right;\n",
       "    }\n",
       "</style>\n",
       "<table border=\"1\" class=\"dataframe\">\n",
       "  <thead>\n",
       "    <tr style=\"text-align: right;\">\n",
       "      <th></th>\n",
       "      <th>tips</th>\n",
       "      <th>driver_pay</th>\n",
       "      <th>request_datetime</th>\n",
       "      <th>drive_rev</th>\n",
       "    </tr>\n",
       "  </thead>\n",
       "  <tbody>\n",
       "    <tr>\n",
       "      <th>0</th>\n",
       "      <td>0.0</td>\n",
       "      <td>9.34</td>\n",
       "      <td>04/24/2022 01:54:36 PM</td>\n",
       "      <td>9.34</td>\n",
       "    </tr>\n",
       "    <tr>\n",
       "      <th>1</th>\n",
       "      <td>0.0</td>\n",
       "      <td>6.66</td>\n",
       "      <td>04/24/2022 01:28:37 PM</td>\n",
       "      <td>6.66</td>\n",
       "    </tr>\n",
       "    <tr>\n",
       "      <th>2</th>\n",
       "      <td>1.0</td>\n",
       "      <td>18.52</td>\n",
       "      <td>04/24/2022 01:11:06 PM</td>\n",
       "      <td>19.52</td>\n",
       "    </tr>\n",
       "    <tr>\n",
       "      <th>3</th>\n",
       "      <td>0.0</td>\n",
       "      <td>8.62</td>\n",
       "      <td>04/24/2022 01:37:34 PM</td>\n",
       "      <td>8.62</td>\n",
       "    </tr>\n",
       "    <tr>\n",
       "      <th>4</th>\n",
       "      <td>0.0</td>\n",
       "      <td>11.01</td>\n",
       "      <td>04/24/2022 12:56:58 PM</td>\n",
       "      <td>11.01</td>\n",
       "    </tr>\n",
       "  </tbody>\n",
       "</table>\n",
       "</div>"
      ],
      "text/plain": [
       "   tips  driver_pay        request_datetime  drive_rev\n",
       "0   0.0        9.34  04/24/2022 01:54:36 PM       9.34\n",
       "1   0.0        6.66  04/24/2022 01:28:37 PM       6.66\n",
       "2   1.0       18.52  04/24/2022 01:11:06 PM      19.52\n",
       "3   0.0        8.62  04/24/2022 01:37:34 PM       8.62\n",
       "4   0.0       11.01  04/24/2022 12:56:58 PM      11.01"
      ]
     },
     "execution_count": 24,
     "metadata": {},
     "output_type": "execute_result"
    }
   ],
   "source": [
    "df['drive_rev'] = df['tips'] + df['driver_pay']\n",
    "df.head()"
   ]
  },
  {
   "cell_type": "code",
   "execution_count": 25,
   "id": "ea789b9f-e817-43ba-a2ca-d1df53d1b915",
   "metadata": {},
   "outputs": [
    {
     "data": {
      "text/plain": [
       "tips                0\n",
       "driver_pay          0\n",
       "request_datetime    0\n",
       "drive_rev           0\n",
       "dtype: int64"
      ]
     },
     "execution_count": 25,
     "metadata": {},
     "output_type": "execute_result"
    }
   ],
   "source": [
    "df.isna().sum()"
   ]
  },
  {
   "cell_type": "code",
   "execution_count": 26,
   "id": "f9e6e636-7d6e-48cc-ab58-c7d6725af427",
   "metadata": {},
   "outputs": [
    {
     "data": {
      "text/html": [
       "<div>\n",
       "<style scoped>\n",
       "    .dataframe tbody tr th:only-of-type {\n",
       "        vertical-align: middle;\n",
       "    }\n",
       "\n",
       "    .dataframe tbody tr th {\n",
       "        vertical-align: top;\n",
       "    }\n",
       "\n",
       "    .dataframe thead th {\n",
       "        text-align: right;\n",
       "    }\n",
       "</style>\n",
       "<table border=\"1\" class=\"dataframe\">\n",
       "  <thead>\n",
       "    <tr style=\"text-align: right;\">\n",
       "      <th></th>\n",
       "      <th>tips</th>\n",
       "      <th>driver_pay</th>\n",
       "      <th>date</th>\n",
       "      <th>drive_rev</th>\n",
       "    </tr>\n",
       "  </thead>\n",
       "  <tbody>\n",
       "    <tr>\n",
       "      <th>0</th>\n",
       "      <td>0.0</td>\n",
       "      <td>9.34</td>\n",
       "      <td>04/24/2022 01:54:36 PM</td>\n",
       "      <td>9.34</td>\n",
       "    </tr>\n",
       "    <tr>\n",
       "      <th>1</th>\n",
       "      <td>0.0</td>\n",
       "      <td>6.66</td>\n",
       "      <td>04/24/2022 01:28:37 PM</td>\n",
       "      <td>6.66</td>\n",
       "    </tr>\n",
       "    <tr>\n",
       "      <th>2</th>\n",
       "      <td>1.0</td>\n",
       "      <td>18.52</td>\n",
       "      <td>04/24/2022 01:11:06 PM</td>\n",
       "      <td>19.52</td>\n",
       "    </tr>\n",
       "  </tbody>\n",
       "</table>\n",
       "</div>"
      ],
      "text/plain": [
       "   tips  driver_pay                    date  drive_rev\n",
       "0   0.0        9.34  04/24/2022 01:54:36 PM       9.34\n",
       "1   0.0        6.66  04/24/2022 01:28:37 PM       6.66\n",
       "2   1.0       18.52  04/24/2022 01:11:06 PM      19.52"
      ]
     },
     "execution_count": 26,
     "metadata": {},
     "output_type": "execute_result"
    }
   ],
   "source": [
    "df = df.rename(columns={'request_datetime': 'date'})\n",
    "df.head(3)"
   ]
  },
  {
   "cell_type": "code",
   "execution_count": null,
   "id": "07d8fac2-8138-4537-8e83-e8e3f50e2dab",
   "metadata": {},
   "outputs": [],
   "source": [
    "df['date'] = pd.to_datetime(df['date'], format = 'mixed')"
   ]
  },
  {
   "cell_type": "code",
   "execution_count": null,
   "id": "3463ca99-084c-48af-8e26-23b3dcf4dbbe",
   "metadata": {},
   "outputs": [],
   "source": [
    "df['time'] = df['date'].dt.time\n",
    "df['date'] = df['date'].dt.date\n",
    "df = df.set_index(df['date'])"
   ]
  },
  {
   "cell_type": "code",
   "execution_count": 15,
   "id": "4cf1b3c1-a68f-4edd-84e1-6e5ac62c39b8",
   "metadata": {},
   "outputs": [
    {
     "data": {
      "text/html": [
       "<div>\n",
       "<style scoped>\n",
       "    .dataframe tbody tr th:only-of-type {\n",
       "        vertical-align: middle;\n",
       "    }\n",
       "\n",
       "    .dataframe tbody tr th {\n",
       "        vertical-align: top;\n",
       "    }\n",
       "\n",
       "    .dataframe thead th {\n",
       "        text-align: right;\n",
       "    }\n",
       "</style>\n",
       "<table border=\"1\" class=\"dataframe\">\n",
       "  <thead>\n",
       "    <tr style=\"text-align: right;\">\n",
       "      <th></th>\n",
       "      <th>tips</th>\n",
       "      <th>driver_pay</th>\n",
       "      <th>date</th>\n",
       "      <th>drive_rev</th>\n",
       "      <th>time</th>\n",
       "    </tr>\n",
       "  </thead>\n",
       "  <tbody>\n",
       "    <tr>\n",
       "      <th>0</th>\n",
       "      <td>0.0</td>\n",
       "      <td>19.38</td>\n",
       "      <td>2022-12-16</td>\n",
       "      <td>19.38</td>\n",
       "      <td>00:00:00</td>\n",
       "    </tr>\n",
       "    <tr>\n",
       "      <th>1</th>\n",
       "      <td>0.0</td>\n",
       "      <td>38.50</td>\n",
       "      <td>2022-12-16</td>\n",
       "      <td>38.50</td>\n",
       "      <td>00:00:00</td>\n",
       "    </tr>\n",
       "    <tr>\n",
       "      <th>2</th>\n",
       "      <td>0.0</td>\n",
       "      <td>36.34</td>\n",
       "      <td>2022-12-16</td>\n",
       "      <td>36.34</td>\n",
       "      <td>00:00:00</td>\n",
       "    </tr>\n",
       "    <tr>\n",
       "      <th>3</th>\n",
       "      <td>0.0</td>\n",
       "      <td>17.72</td>\n",
       "      <td>2022-12-16</td>\n",
       "      <td>17.72</td>\n",
       "      <td>00:00:00</td>\n",
       "    </tr>\n",
       "    <tr>\n",
       "      <th>4</th>\n",
       "      <td>0.0</td>\n",
       "      <td>12.88</td>\n",
       "      <td>2022-12-16</td>\n",
       "      <td>12.88</td>\n",
       "      <td>00:00:00</td>\n",
       "    </tr>\n",
       "  </tbody>\n",
       "</table>\n",
       "</div>"
      ],
      "text/plain": [
       "   tips  driver_pay       date  drive_rev      time\n",
       "0   0.0       19.38 2022-12-16      19.38  00:00:00\n",
       "1   0.0       38.50 2022-12-16      38.50  00:00:00\n",
       "2   0.0       36.34 2022-12-16      36.34  00:00:00\n",
       "3   0.0       17.72 2022-12-16      17.72  00:00:00\n",
       "4   0.0       12.88 2022-12-16      12.88  00:00:00"
      ]
     },
     "execution_count": 15,
     "metadata": {},
     "output_type": "execute_result"
    }
   ],
   "source": [
    "df.head()"
   ]
  },
  {
   "cell_type": "code",
   "execution_count": null,
   "id": "e0146934-5bb6-4f06-807f-9df4c6438ac1",
   "metadata": {},
   "outputs": [],
   "source": [
    "df = df.sort_index()\n",
    "df.sort_index()"
   ]
  }
 ],
 "metadata": {
  "kernelspec": {
   "display_name": "Python 3 (ipykernel)",
   "language": "python",
   "name": "python3"
  },
  "language_info": {
   "codemirror_mode": {
    "name": "ipython",
    "version": 3
   },
   "file_extension": ".py",
   "mimetype": "text/x-python",
   "name": "python",
   "nbconvert_exporter": "python",
   "pygments_lexer": "ipython3",
   "version": "3.11.5"
  }
 },
 "nbformat": 4,
 "nbformat_minor": 5
}
