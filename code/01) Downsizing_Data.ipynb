{
 "cells": [
  {
   "cell_type": "markdown",
   "id": "3684da51-f467-42d6-b032-d853c93abe84",
   "metadata": {},
   "source": [
    "# 01) Downsizing\n",
    "\n",
    "The initial dataset contained 212,000,000 rows of data. In order to work with this locally, beginning NYC Open Data (the source of download) I queried the data, retrieving each month as month-a (the first half of a month) and month-b (the second half of the month). \n",
    "\n",
    "From there, I uploaded the data to Jupyter Lab and created an algorithm using pandas \"chunksize\" parameter to downsize each month-a and month-b for all 12 months.\n",
    "\n",
    "Once a single month's -a and -b were downsized, I concatenated each individually, saving the new dataframe as said month––all of which can be found in the data folder within \"2022_Chunked.zip\"."
   ]
  },
  {
   "cell_type": "code",
   "execution_count": 2,
   "id": "982d6b4e-b01c-42e6-8490-6a579f25a090",
   "metadata": {},
   "outputs": [],
   "source": [
    "import pandas as pd\n",
    "import numpy as np\n",
    "import matplotlib.pyplot as plt"
   ]
  },
  {
   "cell_type": "code",
   "execution_count": 6,
   "id": "2e2169e9-d852-47fa-9c85-149c13073788",
   "metadata": {},
   "outputs": [
    {
     "name": "stdout",
     "output_type": "stream",
     "text": [
      "I sampled your stuff. Is the life of a computer no more than that of a servent?\n"
     ]
    }
   ],
   "source": [
    "#Defining the chunk size\n",
    "chunk_size = 10000\n",
    "\n",
    "#Opening the input file for reading\n",
    "input_file = '../data/2022_High_Volume_FHV_Trip_Records_20240413 (1).csv'\n",
    "reader = pd.read_csv(input_file, chunksize=chunk_size)\n",
    "\n",
    "#Opening the output file for writing\n",
    "output_file = '../data/sept_b_downsized.csv'\n",
    "header_written = False\n",
    "\n",
    "#Iterating over each chunk\n",
    "counter = 0\n",
    "for chunk in reader:\n",
    "    counter += 1\n",
    "    if counter % 100 == 0:\n",
    "        if not header_written:\n",
    "            chunk.to_csv(output_file, index=False)\n",
    "            header_written = True\n",
    "        else:\n",
    "            chunk.to_csv(output_file, index=False, header=False, mode='a')\n",
    "\n",
    "\n",
    "print(\"I sampled your stuff. Is the life of a computer no more than that of a servent?\")"
   ]
  },
  {
   "cell_type": "markdown",
   "id": "501c2dd7-e041-4cd7-b89c-b13ff2663f72",
   "metadata": {},
   "source": [
    "# January 2022"
   ]
  },
  {
   "cell_type": "code",
   "execution_count": 8,
   "id": "77ff5cfa-8271-4106-a222-f7a26185b26d",
   "metadata": {},
   "outputs": [
    {
     "data": {
      "text/plain": [
       "((60000, 11), (70000, 11))"
      ]
     },
     "execution_count": 8,
     "metadata": {},
     "output_type": "execute_result"
    }
   ],
   "source": [
    "jan_a = pd.read_csv('./data/jan_a_downsized.csv')\n",
    "jan_b = pd.read_csv('./data/jan_b_downsized.csv')\n",
    "jan = pd.concat([jan_a, jan_b])\n",
    "jan.to_csv('./data/jan.csv')"
   ]
  },
  {
   "cell_type": "markdown",
   "id": "85278003-e94b-43a5-85f7-66aae9fc4a90",
   "metadata": {},
   "source": [
    "# February 2022"
   ]
  },
  {
   "cell_type": "code",
   "execution_count": 22,
   "id": "52794998-7a45-4187-aabd-860c8d471e44",
   "metadata": {},
   "outputs": [
    {
     "data": {
      "text/plain": [
       "((80000, 11), (70000, 11), (150000, 11))"
      ]
     },
     "execution_count": 22,
     "metadata": {},
     "output_type": "execute_result"
    }
   ],
   "source": [
    "feb_a = pd.read_csv('./data/feb_a_downsized.csv')\n",
    "feb_b = pd.read_csv('./data/feb_b_downsized.csv')\n",
    "feb = pd.concat([feb_a, feb_b])\n",
    "print(feb_a.shape, feb_b.shape, feb.shape)\n",
    "feb.to_csv('./data/feb.csv')"
   ]
  },
  {
   "cell_type": "markdown",
   "id": "03433d95-70fc-47d5-a3b1-70076b32fe33",
   "metadata": {},
   "source": [
    "# March 2022"
   ]
  },
  {
   "cell_type": "code",
   "execution_count": 31,
   "id": "25482143-1b49-4aa4-b5f5-48d9daba24fe",
   "metadata": {},
   "outputs": [
    {
     "name": "stdout",
     "output_type": "stream",
     "text": [
      "(80000, 11) (90000, 11) (170000, 11)\n"
     ]
    }
   ],
   "source": [
    "march_a = pd.read_csv('./data/march_a_downsized.csv')\n",
    "march_b = pd.read_csv('./data/march_b_downsized.csv')\n",
    "march = pd.concat([march_a, march_b])\n",
    "print(march_a.shape, march_b.shape, march.shape)\n",
    "march.to_csv('./data/mar.csv')"
   ]
  },
  {
   "cell_type": "markdown",
   "id": "a17e01f7-1cc3-4922-a742-b355d2f33dc1",
   "metadata": {},
   "source": [
    "# April 2022"
   ]
  },
  {
   "cell_type": "code",
   "execution_count": 32,
   "id": "22a6b32a-5959-405a-893f-678ca39b544b",
   "metadata": {},
   "outputs": [
    {
     "name": "stdout",
     "output_type": "stream",
     "text": [
      "(82494, 11) (80000, 11) (162494, 11)\n"
     ]
    }
   ],
   "source": [
    "april_a = pd.read_csv('./data/april_a_downsized.csv')\n",
    "april_b = pd.read_csv('./data/april_b_downsized.csv')\n",
    "april = pd.concat([april_a, april_b])\n",
    "print(april_a.shape, april_b.shape, april.shape)\n",
    "april.to_csv('./data/april.csv')"
   ]
  },
  {
   "cell_type": "markdown",
   "id": "14616180-4214-4588-82c7-e3977795f062",
   "metadata": {},
   "source": [
    "# May 2022"
   ]
  },
  {
   "cell_type": "code",
   "execution_count": 34,
   "id": "b469b751-370a-40c6-a7fe-ce724286cf72",
   "metadata": {},
   "outputs": [
    {
     "name": "stdout",
     "output_type": "stream",
     "text": [
      "(80000, 11) (90000, 11) (170000, 11)\n"
     ]
    }
   ],
   "source": [
    "may_a = pd.read_csv('./data/may_a_downsized.csv')\n",
    "may_b = pd.read_csv('./data/may_b_downsized.csv')\n",
    "may = pd.concat([may_a, may_b])\n",
    "print(may_a.shape, may_b.shape, may.shape)\n",
    "may.to_csv('./data/may.csv')"
   ]
  },
  {
   "cell_type": "markdown",
   "id": "9e5fa3ba-9e98-4b79-83c1-5a87f8c7e3a5",
   "metadata": {},
   "source": [
    "# June 2022"
   ]
  },
  {
   "cell_type": "code",
   "execution_count": 37,
   "id": "9a098c31-5ac3-406f-8ac9-93ac909a4199",
   "metadata": {},
   "outputs": [
    {
     "name": "stdout",
     "output_type": "stream",
     "text": [
      "(80000, 11) (80000, 11) (160000, 11)\n"
     ]
    }
   ],
   "source": [
    "june_a = pd.read_csv('./data/june_a_downsized.csv')\n",
    "june_b = pd.read_csv('./data/june_b_downsized.csv')\n",
    "june = pd.concat([june_a, june_b])\n",
    "print(june_a.shape, june_b.shape, june.shape)\n",
    "june.to_csv('./data/june.csv')"
   ]
  },
  {
   "cell_type": "markdown",
   "id": "d8e05b15-64cf-4c4f-a420-62ca21262015",
   "metadata": {},
   "source": [
    "# July 2022"
   ]
  },
  {
   "cell_type": "code",
   "execution_count": 42,
   "id": "b6789d7d-f4c9-4f9d-a564-553123adbbee",
   "metadata": {},
   "outputs": [
    {
     "name": "stdout",
     "output_type": "stream",
     "text": [
      "(80000, 11) (90000, 11) (170000, 11)\n"
     ]
    }
   ],
   "source": [
    "july_a = pd.read_csv('./data/july_a_downsized.csv')\n",
    "july_b = pd.read_csv('./data/july_b_downsized.csv')\n",
    "july = pd.concat([july_a, july_b])\n",
    "print(july_a.shape, july_b.shape, july.shape)\n",
    "july.to_csv('./data/july.csv')"
   ]
  },
  {
   "cell_type": "markdown",
   "id": "cfdcb543-8bf0-4f49-99b0-6318ac5969fe",
   "metadata": {},
   "source": [
    "# August 2022"
   ]
  },
  {
   "cell_type": "code",
   "execution_count": 47,
   "id": "8232e7db-4061-415b-9334-f10a9fe3dfc6",
   "metadata": {},
   "outputs": [
    {
     "name": "stdout",
     "output_type": "stream",
     "text": [
      "(80000, 11) (80000, 11) (160000, 11)\n"
     ]
    }
   ],
   "source": [
    "aug_a = pd.read_csv('./data/aug_a_downsized.csv')\n",
    "aug_b = pd.read_csv('./data/aug_b_downsized.csv')\n",
    "aug = pd.concat([aug_a, aug_b])\n",
    "print(aug_a.shape, aug_b.shape, aug.shape)\n",
    "aug.to_csv('./data/aug.csv')"
   ]
  },
  {
   "cell_type": "markdown",
   "id": "11ab607a-f5ba-4315-a900-658f3bce73b0",
   "metadata": {},
   "source": [
    "# September 2022"
   ]
  },
  {
   "cell_type": "code",
   "execution_count": 8,
   "id": "9b1ff29c-5c46-4cf7-8c2b-78d5c41f881f",
   "metadata": {},
   "outputs": [
    {
     "name": "stdout",
     "output_type": "stream",
     "text": [
      "(90000, 11) (30000, 11) (120000, 11)\n"
     ]
    }
   ],
   "source": [
    "sept_a = pd.read_csv('../data/sept_a_downsized.csv')\n",
    "sept_b = pd.read_csv('../data/sept_b_downsized.csv')\n",
    "sept = pd.concat([sept_a, sept_b])\n",
    "print(sept_a.shape, sept_b.shape, sept.shape)\n",
    "sept.to_csv('../data/sept.csv')"
   ]
  },
  {
   "cell_type": "markdown",
   "id": "8b248108-4f03-4a75-9a20-36ecfea80d6c",
   "metadata": {},
   "source": [
    "# October 2022"
   ]
  },
  {
   "cell_type": "code",
   "execution_count": 56,
   "id": "9b1665bd-100e-458e-af12-7d9a39c1afa3",
   "metadata": {},
   "outputs": [
    {
     "name": "stdout",
     "output_type": "stream",
     "text": [
      "(90000, 11) (100000, 11) (190000, 11)\n"
     ]
    }
   ],
   "source": [
    "oct_a = pd.read_csv('./data/oct_a_downsized.csv')\n",
    "oct_b = pd.read_csv('./data/oct_b_downsized.csv')\n",
    "oct = pd.concat([oct_a, oct_b])\n",
    "print(oct_a.shape, oct_b.shape, oct.shape)\n",
    "oct.to_csv('./data/oct.csv')"
   ]
  },
  {
   "cell_type": "markdown",
   "id": "f32b147d-2173-45dc-bb3b-b9a807762ff2",
   "metadata": {},
   "source": [
    "# November 2022"
   ]
  },
  {
   "cell_type": "code",
   "execution_count": 59,
   "id": "1c6894b1-a76a-44ae-9c95-09672e482b81",
   "metadata": {},
   "outputs": [
    {
     "name": "stdout",
     "output_type": "stream",
     "text": [
      "(90000, 11) (80000, 11) (170000, 11)\n"
     ]
    }
   ],
   "source": [
    "nov_a = pd.read_csv('./data/nov_a_downsized.csv')\n",
    "nov_b = pd.read_csv('./data/nov_b_downsized.csv')\n",
    "nov = pd.concat([nov_a, nov_b])\n",
    "print(nov_a.shape, nov_b.shape, nov.shape)\n",
    "nov.to_csv('./data/nov.csv')"
   ]
  },
  {
   "cell_type": "markdown",
   "id": "ae98437a-ca9b-4ef9-aeb0-ce5ddc00a4e5",
   "metadata": {},
   "source": [
    "# December 2022"
   ]
  },
  {
   "cell_type": "code",
   "execution_count": 62,
   "id": "3b38ecfc-f458-4d8f-8d2a-051f7a924dbe",
   "metadata": {},
   "outputs": [
    {
     "name": "stdout",
     "output_type": "stream",
     "text": [
      "(100000, 11) (90000, 11) (190000, 11)\n"
     ]
    }
   ],
   "source": [
    "dec_a = pd.read_csv('./data/dec_a_downsized.csv')\n",
    "dec_b = pd.read_csv('./data/dec_b_downsized.csv')\n",
    "dec = pd.concat([dec_a, dec_b])\n",
    "print(dec_a.shape, dec_b.shape, dec.shape)\n",
    "dec.to_csv('./data/dec.csv')"
   ]
  }
 ],
 "metadata": {
  "kernelspec": {
   "display_name": "Python 3 (ipykernel)",
   "language": "python",
   "name": "python3"
  },
  "language_info": {
   "codemirror_mode": {
    "name": "ipython",
    "version": 3
   },
   "file_extension": ".py",
   "mimetype": "text/x-python",
   "name": "python",
   "nbconvert_exporter": "python",
   "pygments_lexer": "ipython3",
   "version": "3.11.5"
  }
 },
 "nbformat": 4,
 "nbformat_minor": 5
}
